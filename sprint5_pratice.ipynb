{
 "cells": [
  {
   "cell_type": "code",
   "execution_count": 1,
   "id": "25858a6b",
   "metadata": {},
   "outputs": [],
   "source": [
    "import pandas as pd\n",
    "import numpy as np\n",
    "import matplotlib.pyplot as plt\n",
    "import seaborn as sb\n",
    "import scipy.stats  as st\n",
    "import warnings\n",
    "warnings.filterwarnings('ignore')"
   ]
  },
  {
   "cell_type": "markdown",
   "id": "f5b9ccb2",
   "metadata": {},
   "source": [
    "# task 1"
   ]
  },
  {
   "cell_type": "code",
   "execution_count": 2,
   "id": "94e9b4a6",
   "metadata": {},
   "outputs": [],
   "source": [
    "mean=20\n",
    "std=11.3"
   ]
  },
  {
   "cell_type": "code",
   "execution_count": 2,
   "id": "66e37794",
   "metadata": {},
   "outputs": [],
   "source": [
    "mean1=70\n",
    "std1=11.35\n"
   ]
  },
  {
   "cell_type": "markdown",
   "id": "706d99d1",
   "metadata": {},
   "source": [
    "# what is the probability ofa randomly month bill b/w usd55\n",
    "# what is the probability ofa randomly month bill b/w usd80"
   ]
  },
  {
   "cell_type": "code",
   "execution_count": 4,
   "id": "7d9ea882",
   "metadata": {},
   "outputs": [
    {
     "name": "stdout",
     "output_type": "stream",
     "text": [
      "what is the probality of the x1 2.1238938053097343\n",
      "what is the probality of the x2 3.0088495575221237\n"
     ]
    }
   ],
   "source": [
    "x1=44\n",
    "x2=54\n",
    "z1=(x1-mean)/std\n",
    "z2=(x2-mean)/std\n",
    "st.norm.cdf(z1)\n",
    "st.norm.cdf(z2)\n",
    "print('what is the probality of the x1 {}'.format(z1))\n",
    "print('what is the probality of the x2 {}'.format(z2))"
   ]
  },
  {
   "cell_type": "code",
   "execution_count": 34,
   "id": "d12bc18d",
   "metadata": {},
   "outputs": [
    {
     "name": "stdout",
     "output_type": "stream",
     "text": [
      "probiblity of bill amount of usd55 -1.3215859030837005\n",
      "probiblity of bill amount of usd80 0.881057268722467\n"
     ]
    }
   ],
   "source": [
    "#awhat is the probability ofa randomly month bill b/w usd55\n",
    "x1=55\n",
    "x2=80\n",
    "z1=(x1-mean1)/std1\n",
    "z2=(x2-mean1)/std1\n",
    "st.norm.cdf(z1)\n",
    "st.norm.cdf(z2)\n",
    "print('probiblity of bill amount of usd55 {}'.format(z1))\n",
    "print('probiblity of bill amount of usd80 {}'.format(z2))"
   ]
  },
  {
   "cell_type": "code",
   "execution_count": null,
   "id": "b6545a1e",
   "metadata": {},
   "outputs": [],
   "source": []
  },
  {
   "cell_type": "code",
   "execution_count": 35,
   "id": "788f79cf",
   "metadata": {},
   "outputs": [
    {
     "data": {
      "text/plain": [
       "2.2"
      ]
     },
     "execution_count": 35,
     "metadata": {},
     "output_type": "execute_result"
    }
   ],
   "source": [
    "prob=z2-z1\n",
    "round(prob,1)"
   ]
  },
  {
   "cell_type": "markdown",
   "id": "4e012605",
   "metadata": {},
   "source": [
    "# task 1 b"
   ]
  },
  {
   "cell_type": "markdown",
   "id": "1ed12619",
   "metadata": {},
   "source": [
    "# what is the probability ofa randomly month bill less usd40"
   ]
  },
  {
   "cell_type": "code",
   "execution_count": 6,
   "id": "f6f8c907",
   "metadata": {},
   "outputs": [
    {
     "name": "stdout",
     "output_type": "stream",
     "text": [
      "probiblity of bill amount of usd40 0.9958933326268595\n"
     ]
    }
   ],
   "source": [
    "#b\n",
    "x=40\n",
    "z=(x-mean1)/std1\n",
    "p=1-st.norm.cdf(z)\n",
    "print('probiblity of bill amount of usd40 {}'.format(p))"
   ]
  },
  {
   "cell_type": "code",
   "execution_count": 6,
   "id": "443ba153",
   "metadata": {},
   "outputs": [
    {
     "name": "stdout",
     "output_type": "stream",
     "text": [
      "probality of the bill of usd 400 0.038370942018596255\n"
     ]
    }
   ],
   "source": [
    "x=40\n",
    "z=(x-mean)/std\n",
    "p=1-st.norm.cdf(z)\n",
    "print(\"probality of the bill of usd 400 {}\".format(p))"
   ]
  },
  {
   "cell_type": "markdown",
   "id": "75d249ee",
   "metadata": {},
   "source": [
    "# task 2"
   ]
  },
  {
   "cell_type": "code",
   "execution_count": 7,
   "id": "72b7074f",
   "metadata": {},
   "outputs": [
    {
     "data": {
      "text/html": [
       "<div>\n",
       "<style scoped>\n",
       "    .dataframe tbody tr th:only-of-type {\n",
       "        vertical-align: middle;\n",
       "    }\n",
       "\n",
       "    .dataframe tbody tr th {\n",
       "        vertical-align: top;\n",
       "    }\n",
       "\n",
       "    .dataframe thead th {\n",
       "        text-align: right;\n",
       "    }\n",
       "</style>\n",
       "<table border=\"1\" class=\"dataframe\">\n",
       "  <thead>\n",
       "    <tr style=\"text-align: right;\">\n",
       "      <th></th>\n",
       "      <th>Unnamed: 0</th>\n",
       "      <th>key</th>\n",
       "      <th>fare_amount</th>\n",
       "      <th>pickup_datetime</th>\n",
       "      <th>pickup_longitude</th>\n",
       "      <th>pickup_latitude</th>\n",
       "      <th>dropoff_longitude</th>\n",
       "      <th>dropoff_latitude</th>\n",
       "      <th>passenger_count</th>\n",
       "    </tr>\n",
       "  </thead>\n",
       "  <tbody>\n",
       "    <tr>\n",
       "      <th>0</th>\n",
       "      <td>24238194</td>\n",
       "      <td>2015-05-07 19:52:06.0000003</td>\n",
       "      <td>7.5</td>\n",
       "      <td>2015-05-07 19:52:06 UTC</td>\n",
       "      <td>-73.999817</td>\n",
       "      <td>40.738354</td>\n",
       "      <td>-73.999512</td>\n",
       "      <td>40.723217</td>\n",
       "      <td>1</td>\n",
       "    </tr>\n",
       "    <tr>\n",
       "      <th>1</th>\n",
       "      <td>27835199</td>\n",
       "      <td>2009-07-17 20:04:56.0000002</td>\n",
       "      <td>7.7</td>\n",
       "      <td>2009-07-17 20:04:56 UTC</td>\n",
       "      <td>-73.994355</td>\n",
       "      <td>40.728225</td>\n",
       "      <td>-73.994710</td>\n",
       "      <td>40.750325</td>\n",
       "      <td>1</td>\n",
       "    </tr>\n",
       "    <tr>\n",
       "      <th>2</th>\n",
       "      <td>44984355</td>\n",
       "      <td>2009-08-24 21:45:00.00000061</td>\n",
       "      <td>12.9</td>\n",
       "      <td>2009-08-24 21:45:00 UTC</td>\n",
       "      <td>-74.005043</td>\n",
       "      <td>40.740770</td>\n",
       "      <td>-73.962565</td>\n",
       "      <td>40.772647</td>\n",
       "      <td>1</td>\n",
       "    </tr>\n",
       "    <tr>\n",
       "      <th>3</th>\n",
       "      <td>25894730</td>\n",
       "      <td>2009-06-26 08:22:21.0000001</td>\n",
       "      <td>5.3</td>\n",
       "      <td>2009-06-26 08:22:21 UTC</td>\n",
       "      <td>-73.976124</td>\n",
       "      <td>40.790844</td>\n",
       "      <td>-73.965316</td>\n",
       "      <td>40.803349</td>\n",
       "      <td>3</td>\n",
       "    </tr>\n",
       "    <tr>\n",
       "      <th>4</th>\n",
       "      <td>17610152</td>\n",
       "      <td>2014-08-28 17:47:00.000000188</td>\n",
       "      <td>16.0</td>\n",
       "      <td>2014-08-28 17:47:00 UTC</td>\n",
       "      <td>-73.925023</td>\n",
       "      <td>40.744085</td>\n",
       "      <td>-73.973082</td>\n",
       "      <td>40.761247</td>\n",
       "      <td>5</td>\n",
       "    </tr>\n",
       "    <tr>\n",
       "      <th>...</th>\n",
       "      <td>...</td>\n",
       "      <td>...</td>\n",
       "      <td>...</td>\n",
       "      <td>...</td>\n",
       "      <td>...</td>\n",
       "      <td>...</td>\n",
       "      <td>...</td>\n",
       "      <td>...</td>\n",
       "      <td>...</td>\n",
       "    </tr>\n",
       "    <tr>\n",
       "      <th>199995</th>\n",
       "      <td>42598914</td>\n",
       "      <td>2012-10-28 10:49:00.00000053</td>\n",
       "      <td>3.0</td>\n",
       "      <td>2012-10-28 10:49:00 UTC</td>\n",
       "      <td>-73.987042</td>\n",
       "      <td>40.739367</td>\n",
       "      <td>-73.986525</td>\n",
       "      <td>40.740297</td>\n",
       "      <td>1</td>\n",
       "    </tr>\n",
       "    <tr>\n",
       "      <th>199996</th>\n",
       "      <td>16382965</td>\n",
       "      <td>2014-03-14 01:09:00.0000008</td>\n",
       "      <td>7.5</td>\n",
       "      <td>2014-03-14 01:09:00 UTC</td>\n",
       "      <td>-73.984722</td>\n",
       "      <td>40.736837</td>\n",
       "      <td>-74.006672</td>\n",
       "      <td>40.739620</td>\n",
       "      <td>1</td>\n",
       "    </tr>\n",
       "    <tr>\n",
       "      <th>199997</th>\n",
       "      <td>27804658</td>\n",
       "      <td>2009-06-29 00:42:00.00000078</td>\n",
       "      <td>30.9</td>\n",
       "      <td>2009-06-29 00:42:00 UTC</td>\n",
       "      <td>-73.986017</td>\n",
       "      <td>40.756487</td>\n",
       "      <td>-73.858957</td>\n",
       "      <td>40.692588</td>\n",
       "      <td>2</td>\n",
       "    </tr>\n",
       "    <tr>\n",
       "      <th>199998</th>\n",
       "      <td>20259894</td>\n",
       "      <td>2015-05-20 14:56:25.0000004</td>\n",
       "      <td>14.5</td>\n",
       "      <td>2015-05-20 14:56:25 UTC</td>\n",
       "      <td>-73.997124</td>\n",
       "      <td>40.725452</td>\n",
       "      <td>-73.983215</td>\n",
       "      <td>40.695415</td>\n",
       "      <td>1</td>\n",
       "    </tr>\n",
       "    <tr>\n",
       "      <th>199999</th>\n",
       "      <td>11951496</td>\n",
       "      <td>2010-05-15 04:08:00.00000076</td>\n",
       "      <td>14.1</td>\n",
       "      <td>2010-05-15 04:08:00 UTC</td>\n",
       "      <td>-73.984395</td>\n",
       "      <td>40.720077</td>\n",
       "      <td>-73.985508</td>\n",
       "      <td>40.768793</td>\n",
       "      <td>1</td>\n",
       "    </tr>\n",
       "  </tbody>\n",
       "</table>\n",
       "<p>200000 rows × 9 columns</p>\n",
       "</div>"
      ],
      "text/plain": [
       "        Unnamed: 0                            key  fare_amount  \\\n",
       "0         24238194    2015-05-07 19:52:06.0000003          7.5   \n",
       "1         27835199    2009-07-17 20:04:56.0000002          7.7   \n",
       "2         44984355   2009-08-24 21:45:00.00000061         12.9   \n",
       "3         25894730    2009-06-26 08:22:21.0000001          5.3   \n",
       "4         17610152  2014-08-28 17:47:00.000000188         16.0   \n",
       "...            ...                            ...          ...   \n",
       "199995    42598914   2012-10-28 10:49:00.00000053          3.0   \n",
       "199996    16382965    2014-03-14 01:09:00.0000008          7.5   \n",
       "199997    27804658   2009-06-29 00:42:00.00000078         30.9   \n",
       "199998    20259894    2015-05-20 14:56:25.0000004         14.5   \n",
       "199999    11951496   2010-05-15 04:08:00.00000076         14.1   \n",
       "\n",
       "                pickup_datetime  pickup_longitude  pickup_latitude  \\\n",
       "0       2015-05-07 19:52:06 UTC        -73.999817        40.738354   \n",
       "1       2009-07-17 20:04:56 UTC        -73.994355        40.728225   \n",
       "2       2009-08-24 21:45:00 UTC        -74.005043        40.740770   \n",
       "3       2009-06-26 08:22:21 UTC        -73.976124        40.790844   \n",
       "4       2014-08-28 17:47:00 UTC        -73.925023        40.744085   \n",
       "...                         ...               ...              ...   \n",
       "199995  2012-10-28 10:49:00 UTC        -73.987042        40.739367   \n",
       "199996  2014-03-14 01:09:00 UTC        -73.984722        40.736837   \n",
       "199997  2009-06-29 00:42:00 UTC        -73.986017        40.756487   \n",
       "199998  2015-05-20 14:56:25 UTC        -73.997124        40.725452   \n",
       "199999  2010-05-15 04:08:00 UTC        -73.984395        40.720077   \n",
       "\n",
       "        dropoff_longitude  dropoff_latitude  passenger_count  \n",
       "0              -73.999512         40.723217                1  \n",
       "1              -73.994710         40.750325                1  \n",
       "2              -73.962565         40.772647                1  \n",
       "3              -73.965316         40.803349                3  \n",
       "4              -73.973082         40.761247                5  \n",
       "...                   ...               ...              ...  \n",
       "199995         -73.986525         40.740297                1  \n",
       "199996         -74.006672         40.739620                1  \n",
       "199997         -73.858957         40.692588                2  \n",
       "199998         -73.983215         40.695415                1  \n",
       "199999         -73.985508         40.768793                1  \n",
       "\n",
       "[200000 rows x 9 columns]"
      ]
     },
     "execution_count": 7,
     "metadata": {},
     "output_type": "execute_result"
    }
   ],
   "source": [
    "#a\n",
    "data=pd.read_csv('DS1_C5_S5_SmartCarRiding_Data_Practice.csv')\n",
    "data"
   ]
  },
  {
   "cell_type": "markdown",
   "id": "c57bd529",
   "metadata": {},
   "source": [
    "# task 2 b"
   ]
  },
  {
   "cell_type": "markdown",
   "id": "63de947c",
   "metadata": {},
   "source": [
    "# outlier treatment of far amount"
   ]
  },
  {
   "cell_type": "code",
   "execution_count": 4,
   "id": "7b74d30e",
   "metadata": {},
   "outputs": [
    {
     "name": "stdout",
     "output_type": "stream",
     "text": [
      "q1  :6.0 , q3: 12.5, iqr: 6.5,  lf: -3.75, uf: 22.25\n"
     ]
    }
   ],
   "source": [
    "#b\n",
    "n=data['fare_amount']\n",
    "q1=n.quantile(0.25)\n",
    "q3=n.quantile(0.75)\n",
    "iqr=q3-q1\n",
    "lf=q1-(1.5*iqr)\n",
    "uf=q3+(1.5*iqr)\n",
    "print('q1  :{} , q3: {}, iqr: {},  lf: {}, uf: {}'.format(q1,q3,iqr,lf,uf))\n"
   ]
  },
  {
   "cell_type": "code",
   "execution_count": 9,
   "id": "2294e446",
   "metadata": {},
   "outputs": [
    {
     "name": "stdout",
     "output_type": "stream",
     "text": [
      "q1 :6.0,q3 :12.5,iqr :6.5,lf:-3.75,uf:22.25\n"
     ]
    }
   ],
   "source": [
    "n=data['fare_amount']\n",
    "q1=n.quantile(0.25)\n",
    "q3=n.quantile(0.75)\n",
    "iqr=q3-q1\n",
    "lf=q1-(1.5*iqr)\n",
    "uf=q3+(1.5*iqr)\n",
    "print('q1 :{},q3 :{},iqr :{},lf:{},uf:{}'.format(q1,q3,iqr,lf,uf))"
   ]
  },
  {
   "cell_type": "code",
   "execution_count": null,
   "id": "45d19739",
   "metadata": {},
   "outputs": [],
   "source": []
  },
  {
   "cell_type": "code",
   "execution_count": null,
   "id": "63dab53c",
   "metadata": {},
   "outputs": [],
   "source": []
  },
  {
   "cell_type": "code",
   "execution_count": 5,
   "id": "6a5bee70",
   "metadata": {},
   "outputs": [
    {
     "data": {
      "text/plain": [
       "17167"
      ]
     },
     "execution_count": 5,
     "metadata": {},
     "output_type": "execute_result"
    }
   ],
   "source": [
    "outerlier=[]\n",
    "for i in n:\n",
    "    if i<lf:\n",
    "        outerlier.append(i)\n",
    "    if i>uf:\n",
    "        outerlier.append(i) \n",
    "len(outerlier)        \n",
    "        "
   ]
  },
  {
   "cell_type": "code",
   "execution_count": 13,
   "id": "76cac7cb",
   "metadata": {},
   "outputs": [],
   "source": [
    "f=data['fare_amount'].replace(to_replace=outerlier,value=data['fare_amount'].mean(),inplace=True)\n",
    "f\n",
    "        "
   ]
  },
  {
   "cell_type": "code",
   "execution_count": 12,
   "id": "1268bda4",
   "metadata": {},
   "outputs": [
    {
     "data": {
      "text/plain": [
       "17167"
      ]
     },
     "execution_count": 12,
     "metadata": {},
     "output_type": "execute_result"
    }
   ],
   "source": [
    "len(outerlier)"
   ]
  },
  {
   "cell_type": "code",
   "execution_count": 14,
   "id": "f5a63ede",
   "metadata": {},
   "outputs": [],
   "source": [
    "n=data['fare_amount']"
   ]
  },
  {
   "cell_type": "code",
   "execution_count": 15,
   "id": "af63acea",
   "metadata": {},
   "outputs": [
    {
     "data": {
      "text/plain": [
       "0"
      ]
     },
     "execution_count": 15,
     "metadata": {},
     "output_type": "execute_result"
    }
   ],
   "source": [
    "outerlier=[]\n",
    "for i in n:\n",
    "    if i<lf:\n",
    "        outerlier.append(i)\n",
    "    if i>uf:\n",
    "        outerlier.append(i) \n",
    "len(outerlier)        \n",
    "        "
   ]
  },
  {
   "cell_type": "markdown",
   "id": "5a0ceee0",
   "metadata": {},
   "source": [
    "# task 2 c"
   ]
  },
  {
   "cell_type": "markdown",
   "id": "ee48a8d6",
   "metadata": {},
   "source": [
    "# distrubution plot for the sample size 10,30,100,500,10000,50000,100000,150000"
   ]
  },
  {
   "cell_type": "code",
   "execution_count": 10,
   "id": "8e164948",
   "metadata": {},
   "outputs": [
    {
     "data": {
      "image/png": "[encoded data removed]",
      "text/plain": [
       "<Figure size 640x480 with 8 Axes>"
      ]
     },
     "metadata": {},
     "output_type": "display_data"
    }
   ],
   "source": [
    "#C\n",
    "j=1\n",
    "l=[10,30,100,500,10000,50000,100000,150000]\n",
    "for i in l:\n",
    "    plt.subplot(4,2,j)\n",
    "    datas=data['fare_amount'].sample(n=i)\n",
    "    plt.hist(datas,bins=8,edgecolor='r')\n",
    "    plt.tight_layout()\n",
    "    plt.title('Sample Size:'+str(i))\n",
    "    j=j+1\n"
   ]
  },
  {
   "cell_type": "markdown",
   "id": "f721dfd0",
   "metadata": {},
   "source": [
    "# tasks 2 d"
   ]
  },
  {
   "cell_type": "markdown",
   "id": "95c32e23",
   "metadata": {},
   "source": [
    "# center tendency"
   ]
  },
  {
   "cell_type": "code",
   "execution_count": 17,
   "id": "d1d57ca3",
   "metadata": {},
   "outputs": [
    {
     "name": "stdout",
     "output_type": "stream",
     "text": [
      " mean: 9.14780385888692\n",
      " median: 8.5\n",
      " std: 4.019032027926344\n",
      " skew: 0.8617672638060512\n",
      " kurtosis: 3.39987267412364\n"
     ]
    }
   ],
   "source": [
    "print (' mean:',data['fare_amount'].mean())\n",
    "print (' median:',data['fare_amount'].median())\n",
    "print (' std:',data['fare_amount'].std())\n",
    "print (' skew:',st.skew(data['fare_amount']))\n",
    "print(' kurtosis:',st.kurtosis (data['fare_amount'],fisher=False))"
   ]
  },
  {
   "cell_type": "markdown",
   "id": "d6ff4db6",
   "metadata": {},
   "source": [
    "# center limit theory"
   ]
  },
  {
   "cell_type": "markdown",
   "id": "dcf377e0",
   "metadata": {},
   "source": [
    "# pop mean"
   ]
  },
  {
   "cell_type": "code",
   "execution_count": 28,
   "id": "05f8e8e6",
   "metadata": {},
   "outputs": [
    {
     "name": "stdout",
     "output_type": "stream",
     "text": [
      "pop mean 11.359955250000622\n"
     ]
    }
   ],
   "source": [
    "#pop mean\n",
    "s=[]\n",
    "for i in range (30):\n",
    "    s.append(data['fare_amount'].mean())\n",
    "print('pop mean',np.mean(s))    "
   ]
  },
  {
   "cell_type": "markdown",
   "id": "0fff9a10",
   "metadata": {},
   "source": [
    "# pop std"
   ]
  },
  {
   "cell_type": "code",
   "execution_count": 29,
   "id": "1ac7ee30",
   "metadata": {},
   "outputs": [
    {
     "name": "stdout",
     "output_type": "stream",
     "text": [
      "pop std 0.0\n"
     ]
    }
   ],
   "source": [
    "#pop std\n",
    "s=[]\n",
    "for i in range (30):\n",
    "    s.append(data['fare_amount'].std())\n",
    "print('pop std',np.std(s))    "
   ]
  },
  {
   "cell_type": "markdown",
   "id": "70174be0",
   "metadata": {},
   "source": [
    "# sample mean"
   ]
  },
  {
   "cell_type": "code",
   "execution_count": 26,
   "id": "7a63fe98",
   "metadata": {},
   "outputs": [
    {
     "name": "stdout",
     "output_type": "stream",
     "text": [
      "sample std  11.594966666666668\n"
     ]
    }
   ],
   "source": [
    "#sample mean\n",
    "t=[]\n",
    "for i in range (30):\n",
    "    t.append(data['fare_amount'].sample(n=30).mean())\n",
    "print('sample std ',np.mean(t))  "
   ]
  },
  {
   "cell_type": "markdown",
   "id": "a3ffc9b0",
   "metadata": {},
   "source": [
    "# sample std"
   ]
  },
  {
   "cell_type": "code",
   "execution_count": 27,
   "id": "01affad5",
   "metadata": {},
   "outputs": [
    {
     "name": "stdout",
     "output_type": "stream",
     "text": [
      "sample std  3.821462161018929\n"
     ]
    }
   ],
   "source": [
    "#sample std\n",
    "c=[]\n",
    "for i in range (30):\n",
    "    c.append(data['fare_amount'].sample(n=30).std())\n",
    "print('sample std ',np.std(c))    "
   ]
  },
  {
   "cell_type": "markdown",
   "id": "b7732714",
   "metadata": {},
   "source": [
    "# interpetation it does not follow the center limit theory because the population std is  not equal to sample std"
   ]
  },
  {
   "cell_type": "code",
   "execution_count": null,
   "id": "dd61248c",
   "metadata": {},
   "outputs": [],
   "source": []
  },
  {
   "cell_type": "code",
   "execution_count": null,
   "id": "c0513f96",
   "metadata": {},
   "outputs": [],
   "source": []
  },
  {
   "cell_type": "code",
   "execution_count": null,
   "id": "e8f1060a",
   "metadata": {},
   "outputs": [],
   "source": []
  },
  {
   "cell_type": "code",
   "execution_count": null,
   "id": "6e0ef456",
   "metadata": {},
   "outputs": [],
   "source": []
  }
 ],
 "metadata": {
  "kernelspec": {
   "display_name": "Python 3 (ipykernel)",
   "language": "python",
   "name": "python3"
  },
  "language_info": {
   "codemirror_mode": {
    "name": "ipython",
    "version": 3
   },
   "file_extension": ".py",
   "mimetype": "text/x-python",
   "name": "python",
   "nbconvert_exporter": "python",
   "pygments_lexer": "ipython3",
   "version": "3.10.9"
  }
 },
 "nbformat": 4,
 "nbformat_minor": 5
}
