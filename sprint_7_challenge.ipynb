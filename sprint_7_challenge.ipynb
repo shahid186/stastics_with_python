{
 "cells": [
  {
   "cell_type": "code",
   "execution_count": 2,
   "id": "c8575ecd",
   "metadata": {},
   "outputs": [],
   "source": [
    "import pandas as pd\n",
    "import numpy as np\n",
    "import matplotlib.pyplot as plt\n",
    "import seaborn as sb\n",
    "import scipy.stats as st\n",
    "import statistics as stat"
   ]
  },
  {
   "cell_type": "markdown",
   "id": "86fd66a3",
   "metadata": {},
   "source": [
    "# C5_S6_Challange"
   ]
  },
  {
   "cell_type": "markdown",
   "id": "b82f851d",
   "metadata": {},
   "source": [
    "# Task 1: T_test for single sample and two tailed"
   ]
  },
  {
   "cell_type": "code",
   "execution_count": 4,
   "id": "88b12adb",
   "metadata": {},
   "outputs": [],
   "source": [
    "sample=[12,34,56,78,23,45]\n",
    "mean=np.mean(sample)\n",
    "std=stat.stdev(sample)\n",
    "popmean=40\n",
    "n=len(sample)\n",
    "dof=n-1\n",
    "alpha=.1\n"
   ]
  },
  {
   "cell_type": "code",
   "execution_count": null,
   "id": "f5149588",
   "metadata": {},
   "outputs": [],
   "source": []
  },
  {
   "cell_type": "code",
   "execution_count": 107,
   "id": "b333a953",
   "metadata": {},
   "outputs": [],
   "source": [
    "sam=[15,16,16,0,7,20,6,8,17,25,8,21,29,11,9,21,3,12]\n",
    "sam_mean=np.mean(sam)\n",
    "sam_std=stat.stdev(sam)\n",
    "pop_mean=40\n",
    "n=len(sam)\n",
    "DOF=n-1\n",
    "alpha=0.1"
   ]
  },
  {
   "cell_type": "code",
   "execution_count": 109,
   "id": "85f2a14b",
   "metadata": {},
   "outputs": [
    {
     "name": "stdout",
     "output_type": "stream",
     "text": [
      "Sample mean:  13.555555555555555\n",
      "Sample std: 7.8006200524454705\n",
      "Population mean: 40\n",
      "Sample lenght: 18\n"
     ]
    }
   ],
   "source": [
    "print('Sample mean: ',sam_mean)\n",
    "print('Sample std:',sam_std)\n",
    "print('Population mean:',pop_mean)\n",
    "print('Sample lenght:',n)"
   ]
  },
  {
   "cell_type": "markdown",
   "id": "75f672a8",
   "metadata": {},
   "source": [
    "# Hypothesis"
   ]
  },
  {
   "cell_type": "raw",
   "id": "4e49a61f",
   "metadata": {},
   "source": [
    "H0: M=Mx\n",
    "Ha: M<>Mx\n",
    "M= population mean\n",
    "Mx= sample mean"
   ]
  },
  {
   "cell_type": "markdown",
   "id": "eabe2797",
   "metadata": {},
   "source": [
    "# Task 1a: Statistics"
   ]
  },
  {
   "cell_type": "raw",
   "id": "f842d0ac",
   "metadata": {},
   "source": [
    "Here we are going to compare the sample mean with the population mean as we can see we have single sample and because of that \n",
    "we are going to use single sample T-Test also we have to show the mean of population is not equal to the mwan of sample \n",
    "for this we are going to use Two tailed test"
   ]
  },
  {
   "cell_type": "markdown",
   "id": "d3e205d3",
   "metadata": {},
   "source": [
    "# Task 1b: T_Critical"
   ]
  },
  {
   "cell_type": "code",
   "execution_count": 8,
   "id": "55aeb4d6",
   "metadata": {},
   "outputs": [
    {
     "data": {
      "text/plain": [
       "1.3333793897216268"
      ]
     },
     "execution_count": 8,
     "metadata": {},
     "output_type": "execute_result"
    }
   ],
   "source": [
    "pos_Tc=st.t.ppf(1-alpha,DOF)\n",
    "pos_Tc"
   ]
  },
  {
   "cell_type": "code",
   "execution_count": 10,
   "id": "e19af70c",
   "metadata": {},
   "outputs": [
    {
     "data": {
      "text/plain": [
       "-1.3333793897216264"
      ]
     },
     "execution_count": 10,
     "metadata": {},
     "output_type": "execute_result"
    }
   ],
   "source": [
    "neg_Tc=st.t.ppf(alpha,DOF)\n",
    "neg_Tc"
   ]
  },
  {
   "cell_type": "markdown",
   "id": "2a85fd9f",
   "metadata": {},
   "source": []
  },
  {
   "cell_type": "markdown",
   "id": "897a51a2",
   "metadata": {},
   "source": [
    "# Task 1c: Sample mean and Std deviation"
   ]
  },
  {
   "cell_type": "code",
   "execution_count": 12,
   "id": "5459c04f",
   "metadata": {},
   "outputs": [
    {
     "data": {
      "text/plain": [
       "13.555555555555555"
      ]
     },
     "execution_count": 12,
     "metadata": {},
     "output_type": "execute_result"
    }
   ],
   "source": [
    "sam_mean=np.mean(sam)\n",
    "sam_mean"
   ]
  },
  {
   "cell_type": "code",
   "execution_count": 14,
   "id": "0d6aaeea",
   "metadata": {},
   "outputs": [
    {
     "data": {
      "text/plain": [
       "7.8006200524454705"
      ]
     },
     "execution_count": 14,
     "metadata": {},
     "output_type": "execute_result"
    }
   ],
   "source": [
    "sam_std=stat.stdev(sam)\n",
    "sam_std"
   ]
  },
  {
   "cell_type": "markdown",
   "id": "00869ca2",
   "metadata": {},
   "source": [
    "# T-Statistics and P_Value"
   ]
  },
  {
   "cell_type": "code",
   "execution_count": 16,
   "id": "c735d191",
   "metadata": {},
   "outputs": [
    {
     "data": {
      "text/plain": [
       "-14.3827381918304"
      ]
     },
     "execution_count": 16,
     "metadata": {},
     "output_type": "execute_result"
    }
   ],
   "source": [
    "T_Statistics=(sam_mean-pop_mean)/(sam_std/np.sqrt(n))\n",
    "T_Statistics"
   ]
  },
  {
   "cell_type": "code",
   "execution_count": 18,
   "id": "7d233ae1",
   "metadata": {},
   "outputs": [
    {
     "data": {
      "text/plain": [
       "3.009920956967664e-11"
      ]
     },
     "execution_count": 18,
     "metadata": {},
     "output_type": "execute_result"
    }
   ],
   "source": [
    "P_Value=st.t.sf(abs(T_Statistics),DOF)\n",
    "P_Value"
   ]
  },
  {
   "cell_type": "markdown",
   "id": "e3442622",
   "metadata": {},
   "source": [
    "# Task 1d: population mean using the confidence interval"
   ]
  },
  {
   "cell_type": "code",
   "execution_count": 63,
   "id": "f62077ff",
   "metadata": {},
   "outputs": [
    {
     "data": {
      "text/plain": [
       "51.36801122438379"
      ]
     },
     "execution_count": 63,
     "metadata": {},
     "output_type": "execute_result"
    }
   ],
   "source": [
    "a=(sam_mean-T_Statistics)\n",
    "b=(sam_std/stat.sqrt(n))\n",
    "Lower=a*b\n",
    "Lower"
   ]
  },
  {
   "cell_type": "code",
   "execution_count": 64,
   "id": "428e13d5",
   "metadata": {},
   "outputs": [
    {
     "data": {
      "text/plain": [
       "-1.5208776645050937"
      ]
     },
     "execution_count": 64,
     "metadata": {},
     "output_type": "execute_result"
    }
   ],
   "source": [
    "a=(sam_mean+T_Statistics)\n",
    "b=(sam_std/stat.sqrt(n))\n",
    "Upper=a*b\n",
    "Upper"
   ]
  },
  {
   "cell_type": "raw",
   "id": "e025a08d",
   "metadata": {},
   "source": [
    "Hence we can say that the population mean lies between the 51.36 to -1.52"
   ]
  },
  {
   "cell_type": "code",
   "execution_count": 108,
   "id": "26167a6f",
   "metadata": {},
   "outputs": [
    {
     "data": {
      "text/plain": [
       "<matplotlib.legend.Legend at 0x20874f52130>"
      ]
     },
     "execution_count": 108,
     "metadata": {},
     "output_type": "execute_result"
    },
    {
     "data": {
      "image/png": "[encoded data removed]",
      "text/plain": [
       "<Figure size 640x480 with 1 Axes>"
      ]
     },
     "metadata": {},
     "output_type": "display_data"
    }
   ],
   "source": [
    "x=np.arange(-4,4,0.05)\n",
    "y=st.t.pdf(x,DOF)\n",
    "plt.plot(x,y,label='DOF-'+str(DOF))\n",
    "plt.legend()"
   ]
  },
  {
   "cell_type": "markdown",
   "id": "e69bf35b",
   "metadata": {},
   "source": [
    "# Task 1e: Conclusion"
   ]
  },
  {
   "cell_type": "code",
   "execution_count": 35,
   "id": "e96488cb",
   "metadata": {},
   "outputs": [
    {
     "name": "stdout",
     "output_type": "stream",
     "text": [
      "Reject the null hypothesis\n"
     ]
    }
   ],
   "source": [
    "if neg_Tc < T_Statistics < pos_Tc and P_Value > alpha:\n",
    "    print('Accept the null hypothesis')\n",
    "else:\n",
    "    print('Reject the null hypothesis')"
   ]
  },
  {
   "cell_type": "raw",
   "id": "3a7d8469",
   "metadata": {},
   "source": [
    "Hence we can say that the the Null hypothesis is not correct and we are rejecting it also we can say that the \n",
    "Average working Hrs manegers is not greater than the 40"
   ]
  },
  {
   "cell_type": "code",
   "execution_count": null,
   "id": "643df2e1",
   "metadata": {},
   "outputs": [],
   "source": []
  },
  {
   "cell_type": "markdown",
   "id": "c08c9a2e",
   "metadata": {},
   "source": [
    "# Task 2: T_test for two sample and two tailed"
   ]
  },
  {
   "cell_type": "code",
   "execution_count": 90,
   "id": "d88daf39",
   "metadata": {},
   "outputs": [],
   "source": [
    "sam1=[4.05,4.01,4.04,4.02]\n",
    "sam2=[4.02,3.99,4.01,3.99,4.00,4.00]\n",
    "alpha2=0.01"
   ]
  },
  {
   "cell_type": "code",
   "execution_count": 91,
   "id": "0a0d58d9",
   "metadata": {},
   "outputs": [],
   "source": [
    "#sample 1\n",
    "sam1_mean=np.mean(sam1)\n",
    "sam1_std=stat.stdev(sam1)\n",
    "n1=len(sam1)\n",
    "var1=stat.variance(sam1)"
   ]
  },
  {
   "cell_type": "code",
   "execution_count": 42,
   "id": "8f441a12",
   "metadata": {},
   "outputs": [
    {
     "name": "stdout",
     "output_type": "stream",
     "text": [
      "Sample 1 mean:  4.029999999999999\n",
      "Sample 1 std: 0.018257418583505634\n",
      "Sample 1 variance: 0.0003333333333333369\n",
      "Sample 1 lenght: 4\n"
     ]
    }
   ],
   "source": [
    "print('Sample 1 mean: ',sam1_mean)\n",
    "print('Sample 1 std:',sam1_std)\n",
    "print('Sample 1 variance:',var1)\n",
    "print('Sample 1 lenght:',n1)"
   ]
  },
  {
   "cell_type": "code",
   "execution_count": 92,
   "id": "b13ff46b",
   "metadata": {},
   "outputs": [],
   "source": [
    "#sample 2\n",
    "sam2_mean=np.mean(sam2)\n",
    "sam2_std=stat.stdev(sam2)\n",
    "n2=len(sam2)\n",
    "var2=stat.variance(sam2)"
   ]
  },
  {
   "cell_type": "code",
   "execution_count": 46,
   "id": "59eee6b4",
   "metadata": {},
   "outputs": [
    {
     "name": "stdout",
     "output_type": "stream",
     "text": [
      "Sample 2 mean:  4.001666666666666\n",
      "Sample 2 std: 0.011690451944499872\n",
      "Sample 2 variance: 0.00013666666666666084\n",
      "Sample 2 lenght: 6\n"
     ]
    }
   ],
   "source": [
    "print('Sample 2 mean: ',sam2_mean)\n",
    "print('Sample 2 std:',sam2_std)\n",
    "print('Sample 2 variance:',var2)\n",
    "print('Sample 2 lenght:',n2)"
   ]
  },
  {
   "cell_type": "code",
   "execution_count": null,
   "id": "1556c3ae",
   "metadata": {},
   "outputs": [],
   "source": []
  },
  {
   "cell_type": "markdown",
   "id": "6049336d",
   "metadata": {},
   "source": [
    "# Task 2a: Hypothesis"
   ]
  },
  {
   "cell_type": "raw",
   "id": "3772aedf",
   "metadata": {},
   "source": [
    "H0: M1=M2\n",
    "Ha: M1<>M2\n",
    "M1= Sample 1 mean\n",
    "M2= Sample 2 mean"
   ]
  },
  {
   "cell_type": "markdown",
   "id": "dc036cb3",
   "metadata": {},
   "source": [
    "# Task 2b: T_Critical"
   ]
  },
  {
   "cell_type": "code",
   "execution_count": 93,
   "id": "6601f966",
   "metadata": {},
   "outputs": [
    {
     "data": {
      "text/plain": [
       "8"
      ]
     },
     "execution_count": 93,
     "metadata": {},
     "output_type": "execute_result"
    }
   ],
   "source": [
    "alpha2=0.01\n",
    "DOF2=n2+n1-2\n",
    "DOF2"
   ]
  },
  {
   "cell_type": "code",
   "execution_count": 94,
   "id": "10d0795c",
   "metadata": {},
   "outputs": [
    {
     "data": {
      "text/plain": [
       "1.8595480375228424"
      ]
     },
     "execution_count": 94,
     "metadata": {},
     "output_type": "execute_result"
    }
   ],
   "source": [
    "pos_Tc=st.t.ppf(1-alpha/2,DOF2)\n",
    "pos_Tc"
   ]
  },
  {
   "cell_type": "code",
   "execution_count": 95,
   "id": "b13b1ee8",
   "metadata": {},
   "outputs": [
    {
     "data": {
      "text/plain": [
       "-1.8595480375228428"
      ]
     },
     "execution_count": 95,
     "metadata": {},
     "output_type": "execute_result"
    }
   ],
   "source": [
    "neg_Tc=st.t.ppf(alpha/2,DOF2)\n",
    "neg_Tc"
   ]
  },
  {
   "cell_type": "markdown",
   "id": "bf53b6b2",
   "metadata": {},
   "source": [
    "# Task 2c: T-Statistics and P_Value"
   ]
  },
  {
   "cell_type": "code",
   "execution_count": 98,
   "id": "b1ec30ee",
   "metadata": {},
   "outputs": [
    {
     "data": {
      "text/plain": [
       "3.025960284531912"
      ]
     },
     "execution_count": 98,
     "metadata": {},
     "output_type": "execute_result"
    }
   ],
   "source": [
    "T_Statistics2=(sam1_mean-sam2_mean)/(np.sqrt((var1*(n1-1)+var2*(n2-1))/DOF2)*np.sqrt((1/n1)+(1/n2)))\n",
    "T_Statistics2"
   ]
  },
  {
   "cell_type": "code",
   "execution_count": 99,
   "id": "5587b2e7",
   "metadata": {},
   "outputs": [
    {
     "data": {
      "text/plain": [
       "0.01640995794152561"
      ]
     },
     "execution_count": 99,
     "metadata": {},
     "output_type": "execute_result"
    }
   ],
   "source": [
    "P_Value2=st.t.sf(abs(T_Statistics2),DOF2)*2\n",
    "P_Value2"
   ]
  },
  {
   "cell_type": "markdown",
   "id": "2dfff14a",
   "metadata": {},
   "source": [
    "# Task 2d: Conclusion and plot"
   ]
  },
  {
   "cell_type": "code",
   "execution_count": 100,
   "id": "587483d3",
   "metadata": {},
   "outputs": [
    {
     "name": "stdout",
     "output_type": "stream",
     "text": [
      "Reject the null hypothesis\n"
     ]
    }
   ],
   "source": [
    "if neg_Tc < T_Statistics2 < pos_Tc and P_Value2 > alpha2:\n",
    "    print('Accept the null hypothesis')\n",
    "else:\n",
    "    print('Reject the null hypothesis')"
   ]
  },
  {
   "cell_type": "code",
   "execution_count": 101,
   "id": "7977de51",
   "metadata": {},
   "outputs": [
    {
     "data": {
      "image/png": "[encoded data removed]",
      "text/plain": [
       "<Figure size 640x480 with 1 Axes>"
      ]
     },
     "metadata": {},
     "output_type": "display_data"
    }
   ],
   "source": [
    "x=np.arange(-4,4,0.05)\n",
    "y=st.t.pdf(x,DOF2)\n",
    "plt.plot(x,y,label='DOF2-'+str(DOF2))\n",
    "plt.legend();"
   ]
  },
  {
   "cell_type": "markdown",
   "id": "63d555e8",
   "metadata": {},
   "source": [
    "# Task 2e: Business implications"
   ]
  },
  {
   "cell_type": "raw",
   "id": "6ec5cbd9",
   "metadata": {},
   "source": [
    "Hence we can say that the the Null hypothesis is not correct and we are rejecting it also we can say that the \n",
    "Average Fill of mashine1 is not equal to mashine 2 and we can proceed with thw alternative hypothesis."
   ]
  },
  {
   "cell_type": "code",
   "execution_count": null,
   "id": "745e7a30",
   "metadata": {},
   "outputs": [],
   "source": []
  },
  {
   "cell_type": "markdown",
   "id": "7a52624c",
   "metadata": {},
   "source": [
    "# Task 3: Anova test"
   ]
  },
  {
   "cell_type": "code",
   "execution_count": 102,
   "id": "b7e0581d",
   "metadata": {},
   "outputs": [],
   "source": [
    "sam1=[4.05,4.01,4.04,4.02]\n",
    "sam2=[4.02,3.99,4.01,3.99,4.00,4.00]\n",
    "sam3=[4.00,3.97,3.95,3.98,3.97]\n",
    "sam4=[4.01,4.00,3.99,4.02]"
   ]
  },
  {
   "cell_type": "code",
   "execution_count": 103,
   "id": "0e50ad4a",
   "metadata": {},
   "outputs": [],
   "source": [
    "alpha3=0.01    # because confidence level is 99% hence significance level will be 100-99=1\n",
    "DFC=4-1        # here we have 4 samples\n",
    "DFE=(len(sam1)+len(sam2)+len(sam3)+len(sam4))-4   #sum of all sample len - total sample no."
   ]
  },
  {
   "cell_type": "code",
   "execution_count": 71,
   "id": "27a9e130",
   "metadata": {},
   "outputs": [
    {
     "data": {
      "text/plain": [
       "3"
      ]
     },
     "execution_count": 71,
     "metadata": {},
     "output_type": "execute_result"
    }
   ],
   "source": [
    "DFC"
   ]
  },
  {
   "cell_type": "code",
   "execution_count": 72,
   "id": "47d16d52",
   "metadata": {},
   "outputs": [
    {
     "data": {
      "text/plain": [
       "15"
      ]
     },
     "execution_count": 72,
     "metadata": {},
     "output_type": "execute_result"
    }
   ],
   "source": [
    "DFE"
   ]
  },
  {
   "cell_type": "markdown",
   "id": "4603cc94",
   "metadata": {},
   "source": [
    "# Task 3a: Hypothesis"
   ]
  },
  {
   "cell_type": "raw",
   "id": "bd615fbc",
   "metadata": {},
   "source": [
    "H0: M1-M2-M3-M4=0\n",
    "Ha: M1-M2-M3-M4<>0"
   ]
  },
  {
   "cell_type": "markdown",
   "id": "8580277d",
   "metadata": {},
   "source": [
    "# Task 3b: F_Critical Value"
   ]
  },
  {
   "cell_type": "code",
   "execution_count": 104,
   "id": "9effa143",
   "metadata": {},
   "outputs": [],
   "source": [
    "from scipy.stats import f,f_oneway"
   ]
  },
  {
   "cell_type": "code",
   "execution_count": 105,
   "id": "860adc5b",
   "metadata": {},
   "outputs": [
    {
     "data": {
      "text/plain": [
       "5.416964857818421"
      ]
     },
     "execution_count": 105,
     "metadata": {},
     "output_type": "execute_result"
    }
   ],
   "source": [
    "F_Critical=f.ppf(1-alpha3,DFC,DFE)\n",
    "F_Critical"
   ]
  },
  {
   "cell_type": "markdown",
   "id": "d52362d7",
   "metadata": {},
   "source": [
    "# Task 3c: F_Statistics and P_Value"
   ]
  },
  {
   "cell_type": "code",
   "execution_count": 77,
   "id": "435931f2",
   "metadata": {},
   "outputs": [],
   "source": [
    "F_Stats,P_Value3=f_oneway(sam1,sam2,sam3,sam4)"
   ]
  },
  {
   "cell_type": "code",
   "execution_count": 78,
   "id": "afb12512",
   "metadata": {},
   "outputs": [
    {
     "data": {
      "text/plain": [
       "10.098402523912094"
      ]
     },
     "execution_count": 78,
     "metadata": {},
     "output_type": "execute_result"
    }
   ],
   "source": [
    "F_Stats"
   ]
  },
  {
   "cell_type": "code",
   "execution_count": 79,
   "id": "d140ace5",
   "metadata": {},
   "outputs": [
    {
     "data": {
      "text/plain": [
       "0.000685335440647619"
      ]
     },
     "execution_count": 79,
     "metadata": {},
     "output_type": "execute_result"
    }
   ],
   "source": [
    "P_Value3"
   ]
  },
  {
   "cell_type": "markdown",
   "id": "746b8581",
   "metadata": {},
   "source": [
    "# Task 3d: Conclusion and plot"
   ]
  },
  {
   "cell_type": "code",
   "execution_count": 81,
   "id": "fd7ed016",
   "metadata": {},
   "outputs": [
    {
     "name": "stdout",
     "output_type": "stream",
     "text": [
      "Reject the null hypothesis\n"
     ]
    }
   ],
   "source": [
    "if F_Stats < F_Critical and P_Value3 > alpha3:\n",
    "    print('Accept the null hypothesis')\n",
    "else:\n",
    "    print('Reject the null hypothesis')"
   ]
  },
  {
   "cell_type": "code",
   "execution_count": 83,
   "id": "5dda5ec0",
   "metadata": {},
   "outputs": [
    {
     "data": {
      "image/png": "[encoded data removed]",
      "text/plain": [
       "<Figure size 640x480 with 1 Axes>"
      ]
     },
     "metadata": {},
     "output_type": "display_data"
    }
   ],
   "source": [
    "F_dis=st.f(DFC,DFE,loc=0,scale=1)\n",
    "x=np.arange(0,8,0.01)\n",
    "y=F_dis.pdf(x)\n",
    "plt.plot(x,y);"
   ]
  },
  {
   "cell_type": "markdown",
   "id": "5c8ddede",
   "metadata": {},
   "source": [
    "# Task 3e: Business implications"
   ]
  },
  {
   "cell_type": "raw",
   "id": "b14c4417",
   "metadata": {},
   "source": [
    "Hence we can say that the the Null hypothesis is not correct and we are rejecting it also we can say that the \n",
    "Average Fill of Mashine 1 Mashine 2 Mashine 3 & Mashine 4 is not equal and we can proceed with the alternative hypothesis"
   ]
  }
 ],
 "metadata": {
  "kernelspec": {
   "display_name": "Python 3 (ipykernel)",
   "language": "python",
   "name": "python3"
  },
  "language_info": {
   "codemirror_mode": {
    "name": "ipython",
    "version": 3
   },
   "file_extension": ".py",
   "mimetype": "text/x-python",
   "name": "python",
   "nbconvert_exporter": "python",
   "pygments_lexer": "ipython3",
   "version": "3.10.9"
  }
 },
 "nbformat": 4,
 "nbformat_minor": 5
}
