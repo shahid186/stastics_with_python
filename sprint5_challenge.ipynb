{
 "cells": [
  {
   "cell_type": "code",
   "execution_count": 2,
   "id": "aea0c336",
   "metadata": {},
   "outputs": [],
   "source": [
    "import pandas as pd\n",
    "import numpy as np\n",
    "import matplotlib.pyplot as plt\n",
    "import seaborn as sb\n",
    "import scipy.stats  as st\n",
    "import warnings\n",
    "warnings.filterwarnings('ignore')"
   ]
  },
  {
   "cell_type": "markdown",
   "id": "0be685b5",
   "metadata": {},
   "source": [
    "# task 1"
   ]
  },
  {
   "cell_type": "markdown",
   "id": "ccc18d70",
   "metadata": {},
   "source": [
    "# what is the propotion of tax return are greater than 2000"
   ]
  },
  {
   "cell_type": "code",
   "execution_count": 2,
   "id": "556e5ffc",
   "metadata": {},
   "outputs": [],
   "source": [
    "mean=1332\n",
    "std=725"
   ]
  },
  {
   "cell_type": "code",
   "execution_count": 3,
   "id": "554ad4d1",
   "metadata": {},
   "outputs": [],
   "source": [
    "mean=1332\n",
    "std=345\n"
   ]
  },
  {
   "cell_type": "code",
   "execution_count": 5,
   "id": "8a805125",
   "metadata": {},
   "outputs": [
    {
     "data": {
      "text/plain": [
       "-3.281159420289855"
      ]
     },
     "execution_count": 5,
     "metadata": {},
     "output_type": "execute_result"
    }
   ],
   "source": [
    "x=200\n",
    "pvalue=(x-mean)/std\n",
    "pvalue"
   ]
  },
  {
   "cell_type": "code",
   "execution_count": 3,
   "id": "49c3c1fd",
   "metadata": {},
   "outputs": [
    {
     "data": {
      "text/plain": [
       "0.9213793103448276"
      ]
     },
     "execution_count": 3,
     "metadata": {},
     "output_type": "execute_result"
    }
   ],
   "source": [
    "x=2000\n",
    "pvalue=(x-mean)/std\n",
    "pvalue"
   ]
  },
  {
   "cell_type": "markdown",
   "id": "dbea1188",
   "metadata": {},
   "source": [
    "# task 2"
   ]
  },
  {
   "cell_type": "markdown",
   "id": "d95084f6",
   "metadata": {},
   "source": [
    "# propotion of tex indicates that a tax payer owes money to the government"
   ]
  },
  {
   "cell_type": "code",
   "execution_count": 9,
   "id": "b3f7d5a1",
   "metadata": {},
   "outputs": [
    {
     "data": {
      "text/plain": [
       "5.649210464229554e-05"
      ]
     },
     "execution_count": 9,
     "metadata": {},
     "output_type": "execute_result"
    }
   ],
   "source": [
    "p=0\n",
    "z=(p-mean)/std\n",
    "st.norm.cdf(z)"
   ]
  },
  {
   "cell_type": "code",
   "execution_count": 49,
   "id": "c7cb6e75",
   "metadata": {},
   "outputs": [
    {
     "data": {
      "text/plain": [
       "0.03308713475892688"
      ]
     },
     "execution_count": 49,
     "metadata": {},
     "output_type": "execute_result"
    }
   ],
   "source": [
    "p=0\n",
    "z=(p-mean)/std\n",
    "st.norm.cdf(z)"
   ]
  },
  {
   "cell_type": "code",
   "execution_count": 7,
   "id": "70e38c4d",
   "metadata": {},
   "outputs": [
    {
     "data": {
      "text/plain": [
       "0.033599196083133935"
      ]
     },
     "execution_count": 7,
     "metadata": {},
     "output_type": "execute_result"
    }
   ],
   "source": [
    "o=5\n",
    "pvalue=(o-mean)/std\n",
    "st.norm.cdf(pvalue)"
   ]
  },
  {
   "cell_type": "markdown",
   "id": "11b1e1a1",
   "metadata": {},
   "source": [
    "# task 3"
   ]
  },
  {
   "cell_type": "markdown",
   "id": "86a60b6d",
   "metadata": {},
   "source": [
    "# propotion of tax return indicates a refund between 100 and 700"
   ]
  },
  {
   "cell_type": "code",
   "execution_count": null,
   "id": "21e686ac",
   "metadata": {},
   "outputs": [],
   "source": []
  },
  {
   "cell_type": "code",
   "execution_count": 9,
   "id": "a92713cf",
   "metadata": {},
   "outputs": [
    {
     "data": {
      "text/plain": [
       "0.14704908218269308"
      ]
     },
     "execution_count": 9,
     "metadata": {},
     "output_type": "execute_result"
    }
   ],
   "source": [
    "x1=100\n",
    "x2=700\n",
    "z1=(x1-mean)/std\n",
    "z2=(x2-mean)/std\n",
    "r=st.norm.cdf(z2)-st.norm.cdf(z1)\n",
    "r"
   ]
  },
  {
   "cell_type": "code",
   "execution_count": 11,
   "id": "8a740a45",
   "metadata": {},
   "outputs": [
    {
     "data": {
      "text/plain": [
       "0.8056356125727784"
      ]
     },
     "execution_count": 11,
     "metadata": {},
     "output_type": "execute_result"
    }
   ],
   "source": [
    "v1=2000\n",
    "v2=1000\n",
    "z1=(v1-mean)/std\n",
    "z2=(v2-mean)/std\n",
    "e=st.norm.cdf(z1)-st.norm.cdf(z2)\n",
    "e"
   ]
  },
  {
   "cell_type": "code",
   "execution_count": null,
   "id": "9dc104f8",
   "metadata": {},
   "outputs": [],
   "source": []
  },
  {
   "cell_type": "code",
   "execution_count": null,
   "id": "c7ba3bd1",
   "metadata": {},
   "outputs": [],
   "source": []
  },
  {
   "cell_type": "code",
   "execution_count": 7,
   "id": "e920163b",
   "metadata": {},
   "outputs": [
    {
     "data": {
      "text/plain": [
       "0.14704908218269308"
      ]
     },
     "execution_count": 7,
     "metadata": {},
     "output_type": "execute_result"
    }
   ],
   "source": [
    "x1=100\n",
    "x2=700\n",
    "z1=(x1-mean)/std\n",
    "z2=(x2-mean)/std\n",
    "u=st.norm.cdf(z2)-st.norm.cdf(z1)\n",
    "u"
   ]
  },
  {
   "cell_type": "code",
   "execution_count": 14,
   "id": "0f7240ec",
   "metadata": {},
   "outputs": [
    {
     "data": {
      "text/plain": [
       "-0.00021286713391222034"
      ]
     },
     "execution_count": 14,
     "metadata": {},
     "output_type": "execute_result"
    }
   ],
   "source": [
    "n1=200\n",
    "n2=234\n",
    "z1=(n1-mean)/std\n",
    "z2=(n2-mean)/std\n",
    "m=st.norm.cdf(z1)-st.norm.cdf(z2)\n",
    "m\n"
   ]
  },
  {
   "cell_type": "code",
   "execution_count": 19,
   "id": "6cc7125a",
   "metadata": {},
   "outputs": [
    {
     "data": {
      "text/plain": [
       "[<matplotlib.lines.Line2D at 0x24d92f8ded0>]"
      ]
     },
     "execution_count": 19,
     "metadata": {},
     "output_type": "execute_result"
    },
    {
     "data": {
      "image/png": "[encoded data removed]",
      "text/plain": [
       "<Figure size 640x480 with 1 Axes>"
      ]
     },
     "metadata": {},
     "output_type": "display_data"
    }
   ],
   "source": [
    "mena=1223\n",
    "std=234\n",
    "lower=mean-3*std\n",
    "upper=mean+3*std\n",
    "m=np.arange(lower,upper)\n",
    "n=st.norm.pdf(data,loc=mean,scale=std)\n",
    "plt.plot(data,n)"
   ]
  },
  {
   "cell_type": "code",
   "execution_count": 16,
   "id": "99b266be",
   "metadata": {},
   "outputs": [
    {
     "data": {
      "text/plain": [
       "[<matplotlib.lines.Line2D at 0x24d91ab3340>]"
      ]
     },
     "execution_count": 16,
     "metadata": {},
     "output_type": "execute_result"
    },
    {
     "data": {
      "image/png": "[encoded data removed]",
      "text/plain": [
       "<Figure size 640x480 with 1 Axes>"
      ]
     },
     "metadata": {},
     "output_type": "display_data"
    }
   ],
   "source": [
    "mean=1234\n",
    "std=234\n",
    "lower=mean-3*std\n",
    "upper=mean+3*std\n",
    "data=np.arange(lower,upper,.1)\n",
    "m=st.norm.pdf(data,loc=mean,scale=std)\n",
    "plt.plot(data,m)"
   ]
  },
  {
   "cell_type": "code",
   "execution_count": 8,
   "id": "71d846a1",
   "metadata": {},
   "outputs": [
    {
     "data": {
      "text/plain": [
       "[<matplotlib.lines.Line2D at 0x2428f6cd5e0>]"
      ]
     },
     "execution_count": 8,
     "metadata": {},
     "output_type": "execute_result"
    },
    {
     "data": {
      "image/png": "[encoded data removed]",
      "text/plain": [
       "<Figure size 640x480 with 1 Axes>"
      ]
     },
     "metadata": {},
     "output_type": "display_data"
    }
   ],
   "source": [
    "mean=1332\n",
    "std=725\n",
    "lower=mean-3*std\n",
    "upper=mean+3*std\n",
    "data=np.arange(lower,upper,.1)\n",
    "norm_prob=st.norm.pdf(data,loc=mean,scale=std)\n",
    "plt.plot(data,norm_prob)"
   ]
  },
  {
   "cell_type": "markdown",
   "id": "0102f402",
   "metadata": {},
   "source": [
    "# task 2"
   ]
  },
  {
   "cell_type": "code",
   "execution_count": 12,
   "id": "0898342e",
   "metadata": {},
   "outputs": [
    {
     "ename": "FileNotFoundError",
     "evalue": "[Errno 2] No such file or directory: 'DS1_C5_S5_Computers_Data_Challenge.csv'",
     "output_type": "error",
     "traceback": [
      "\u001b[1;31m---------------------------------------------------------------------------\u001b[0m",
      "\u001b[1;31mFileNotFoundError\u001b[0m                         Traceback (most recent call last)",
      "Cell \u001b[1;32mIn[12], line 1\u001b[0m\n\u001b[1;32m----> 1\u001b[0m data\u001b[38;5;241m=\u001b[39m\u001b[43mpd\u001b[49m\u001b[38;5;241;43m.\u001b[39;49m\u001b[43mread_csv\u001b[49m\u001b[43m(\u001b[49m\u001b[38;5;124;43m'\u001b[39;49m\u001b[38;5;124;43mDS1_C5_S5_Computers_Data_Challenge.csv\u001b[39;49m\u001b[38;5;124;43m'\u001b[39;49m\u001b[43m)\u001b[49m\n\u001b[0;32m      2\u001b[0m data\n",
      "File \u001b[1;32m~\\anaconda3\\New folder\\lib\\site-packages\\pandas\\util\\_decorators.py:211\u001b[0m, in \u001b[0;36mdeprecate_kwarg.<locals>._deprecate_kwarg.<locals>.wrapper\u001b[1;34m(*args, **kwargs)\u001b[0m\n\u001b[0;32m    209\u001b[0m     \u001b[38;5;28;01melse\u001b[39;00m:\n\u001b[0;32m    210\u001b[0m         kwargs[new_arg_name] \u001b[38;5;241m=\u001b[39m new_arg_value\n\u001b[1;32m--> 211\u001b[0m \u001b[38;5;28;01mreturn\u001b[39;00m func(\u001b[38;5;241m*\u001b[39margs, \u001b[38;5;241m*\u001b[39m\u001b[38;5;241m*\u001b[39mkwargs)\n",
      "File \u001b[1;32m~\\anaconda3\\New folder\\lib\\site-packages\\pandas\\util\\_decorators.py:331\u001b[0m, in \u001b[0;36mdeprecate_nonkeyword_arguments.<locals>.decorate.<locals>.wrapper\u001b[1;34m(*args, **kwargs)\u001b[0m\n\u001b[0;32m    325\u001b[0m \u001b[38;5;28;01mif\u001b[39;00m \u001b[38;5;28mlen\u001b[39m(args) \u001b[38;5;241m>\u001b[39m num_allow_args:\n\u001b[0;32m    326\u001b[0m     warnings\u001b[38;5;241m.\u001b[39mwarn(\n\u001b[0;32m    327\u001b[0m         msg\u001b[38;5;241m.\u001b[39mformat(arguments\u001b[38;5;241m=\u001b[39m_format_argument_list(allow_args)),\n\u001b[0;32m    328\u001b[0m         \u001b[38;5;167;01mFutureWarning\u001b[39;00m,\n\u001b[0;32m    329\u001b[0m         stacklevel\u001b[38;5;241m=\u001b[39mfind_stack_level(),\n\u001b[0;32m    330\u001b[0m     )\n\u001b[1;32m--> 331\u001b[0m \u001b[38;5;28;01mreturn\u001b[39;00m func(\u001b[38;5;241m*\u001b[39margs, \u001b[38;5;241m*\u001b[39m\u001b[38;5;241m*\u001b[39mkwargs)\n",
      "File \u001b[1;32m~\\anaconda3\\New folder\\lib\\site-packages\\pandas\\io\\parsers\\readers.py:950\u001b[0m, in \u001b[0;36mread_csv\u001b[1;34m(filepath_or_buffer, sep, delimiter, header, names, index_col, usecols, squeeze, prefix, mangle_dupe_cols, dtype, engine, converters, true_values, false_values, skipinitialspace, skiprows, skipfooter, nrows, na_values, keep_default_na, na_filter, verbose, skip_blank_lines, parse_dates, infer_datetime_format, keep_date_col, date_parser, dayfirst, cache_dates, iterator, chunksize, compression, thousands, decimal, lineterminator, quotechar, quoting, doublequote, escapechar, comment, encoding, encoding_errors, dialect, error_bad_lines, warn_bad_lines, on_bad_lines, delim_whitespace, low_memory, memory_map, float_precision, storage_options)\u001b[0m\n\u001b[0;32m    935\u001b[0m kwds_defaults \u001b[38;5;241m=\u001b[39m _refine_defaults_read(\n\u001b[0;32m    936\u001b[0m     dialect,\n\u001b[0;32m    937\u001b[0m     delimiter,\n\u001b[1;32m   (...)\u001b[0m\n\u001b[0;32m    946\u001b[0m     defaults\u001b[38;5;241m=\u001b[39m{\u001b[38;5;124m\"\u001b[39m\u001b[38;5;124mdelimiter\u001b[39m\u001b[38;5;124m\"\u001b[39m: \u001b[38;5;124m\"\u001b[39m\u001b[38;5;124m,\u001b[39m\u001b[38;5;124m\"\u001b[39m},\n\u001b[0;32m    947\u001b[0m )\n\u001b[0;32m    948\u001b[0m kwds\u001b[38;5;241m.\u001b[39mupdate(kwds_defaults)\n\u001b[1;32m--> 950\u001b[0m \u001b[38;5;28;01mreturn\u001b[39;00m \u001b[43m_read\u001b[49m\u001b[43m(\u001b[49m\u001b[43mfilepath_or_buffer\u001b[49m\u001b[43m,\u001b[49m\u001b[43m \u001b[49m\u001b[43mkwds\u001b[49m\u001b[43m)\u001b[49m\n",
      "File \u001b[1;32m~\\anaconda3\\New folder\\lib\\site-packages\\pandas\\io\\parsers\\readers.py:605\u001b[0m, in \u001b[0;36m_read\u001b[1;34m(filepath_or_buffer, kwds)\u001b[0m\n\u001b[0;32m    602\u001b[0m _validate_names(kwds\u001b[38;5;241m.\u001b[39mget(\u001b[38;5;124m\"\u001b[39m\u001b[38;5;124mnames\u001b[39m\u001b[38;5;124m\"\u001b[39m, \u001b[38;5;28;01mNone\u001b[39;00m))\n\u001b[0;32m    604\u001b[0m \u001b[38;5;66;03m# Create the parser.\u001b[39;00m\n\u001b[1;32m--> 605\u001b[0m parser \u001b[38;5;241m=\u001b[39m TextFileReader(filepath_or_buffer, \u001b[38;5;241m*\u001b[39m\u001b[38;5;241m*\u001b[39mkwds)\n\u001b[0;32m    607\u001b[0m \u001b[38;5;28;01mif\u001b[39;00m chunksize \u001b[38;5;129;01mor\u001b[39;00m iterator:\n\u001b[0;32m    608\u001b[0m     \u001b[38;5;28;01mreturn\u001b[39;00m parser\n",
      "File \u001b[1;32m~\\anaconda3\\New folder\\lib\\site-packages\\pandas\\io\\parsers\\readers.py:1442\u001b[0m, in \u001b[0;36mTextFileReader.__init__\u001b[1;34m(self, f, engine, **kwds)\u001b[0m\n\u001b[0;32m   1439\u001b[0m     \u001b[38;5;28mself\u001b[39m\u001b[38;5;241m.\u001b[39moptions[\u001b[38;5;124m\"\u001b[39m\u001b[38;5;124mhas_index_names\u001b[39m\u001b[38;5;124m\"\u001b[39m] \u001b[38;5;241m=\u001b[39m kwds[\u001b[38;5;124m\"\u001b[39m\u001b[38;5;124mhas_index_names\u001b[39m\u001b[38;5;124m\"\u001b[39m]\n\u001b[0;32m   1441\u001b[0m \u001b[38;5;28mself\u001b[39m\u001b[38;5;241m.\u001b[39mhandles: IOHandles \u001b[38;5;241m|\u001b[39m \u001b[38;5;28;01mNone\u001b[39;00m \u001b[38;5;241m=\u001b[39m \u001b[38;5;28;01mNone\u001b[39;00m\n\u001b[1;32m-> 1442\u001b[0m \u001b[38;5;28mself\u001b[39m\u001b[38;5;241m.\u001b[39m_engine \u001b[38;5;241m=\u001b[39m \u001b[38;5;28;43mself\u001b[39;49m\u001b[38;5;241;43m.\u001b[39;49m\u001b[43m_make_engine\u001b[49m\u001b[43m(\u001b[49m\u001b[43mf\u001b[49m\u001b[43m,\u001b[49m\u001b[43m \u001b[49m\u001b[38;5;28;43mself\u001b[39;49m\u001b[38;5;241;43m.\u001b[39;49m\u001b[43mengine\u001b[49m\u001b[43m)\u001b[49m\n",
      "File \u001b[1;32m~\\anaconda3\\New folder\\lib\\site-packages\\pandas\\io\\parsers\\readers.py:1735\u001b[0m, in \u001b[0;36mTextFileReader._make_engine\u001b[1;34m(self, f, engine)\u001b[0m\n\u001b[0;32m   1733\u001b[0m     \u001b[38;5;28;01mif\u001b[39;00m \u001b[38;5;124m\"\u001b[39m\u001b[38;5;124mb\u001b[39m\u001b[38;5;124m\"\u001b[39m \u001b[38;5;129;01mnot\u001b[39;00m \u001b[38;5;129;01min\u001b[39;00m mode:\n\u001b[0;32m   1734\u001b[0m         mode \u001b[38;5;241m+\u001b[39m\u001b[38;5;241m=\u001b[39m \u001b[38;5;124m\"\u001b[39m\u001b[38;5;124mb\u001b[39m\u001b[38;5;124m\"\u001b[39m\n\u001b[1;32m-> 1735\u001b[0m \u001b[38;5;28mself\u001b[39m\u001b[38;5;241m.\u001b[39mhandles \u001b[38;5;241m=\u001b[39m \u001b[43mget_handle\u001b[49m\u001b[43m(\u001b[49m\n\u001b[0;32m   1736\u001b[0m \u001b[43m    \u001b[49m\u001b[43mf\u001b[49m\u001b[43m,\u001b[49m\n\u001b[0;32m   1737\u001b[0m \u001b[43m    \u001b[49m\u001b[43mmode\u001b[49m\u001b[43m,\u001b[49m\n\u001b[0;32m   1738\u001b[0m \u001b[43m    \u001b[49m\u001b[43mencoding\u001b[49m\u001b[38;5;241;43m=\u001b[39;49m\u001b[38;5;28;43mself\u001b[39;49m\u001b[38;5;241;43m.\u001b[39;49m\u001b[43moptions\u001b[49m\u001b[38;5;241;43m.\u001b[39;49m\u001b[43mget\u001b[49m\u001b[43m(\u001b[49m\u001b[38;5;124;43m\"\u001b[39;49m\u001b[38;5;124;43mencoding\u001b[39;49m\u001b[38;5;124;43m\"\u001b[39;49m\u001b[43m,\u001b[49m\u001b[43m \u001b[49m\u001b[38;5;28;43;01mNone\u001b[39;49;00m\u001b[43m)\u001b[49m\u001b[43m,\u001b[49m\n\u001b[0;32m   1739\u001b[0m \u001b[43m    \u001b[49m\u001b[43mcompression\u001b[49m\u001b[38;5;241;43m=\u001b[39;49m\u001b[38;5;28;43mself\u001b[39;49m\u001b[38;5;241;43m.\u001b[39;49m\u001b[43moptions\u001b[49m\u001b[38;5;241;43m.\u001b[39;49m\u001b[43mget\u001b[49m\u001b[43m(\u001b[49m\u001b[38;5;124;43m\"\u001b[39;49m\u001b[38;5;124;43mcompression\u001b[39;49m\u001b[38;5;124;43m\"\u001b[39;49m\u001b[43m,\u001b[49m\u001b[43m \u001b[49m\u001b[38;5;28;43;01mNone\u001b[39;49;00m\u001b[43m)\u001b[49m\u001b[43m,\u001b[49m\n\u001b[0;32m   1740\u001b[0m \u001b[43m    \u001b[49m\u001b[43mmemory_map\u001b[49m\u001b[38;5;241;43m=\u001b[39;49m\u001b[38;5;28;43mself\u001b[39;49m\u001b[38;5;241;43m.\u001b[39;49m\u001b[43moptions\u001b[49m\u001b[38;5;241;43m.\u001b[39;49m\u001b[43mget\u001b[49m\u001b[43m(\u001b[49m\u001b[38;5;124;43m\"\u001b[39;49m\u001b[38;5;124;43mmemory_map\u001b[39;49m\u001b[38;5;124;43m\"\u001b[39;49m\u001b[43m,\u001b[49m\u001b[43m \u001b[49m\u001b[38;5;28;43;01mFalse\u001b[39;49;00m\u001b[43m)\u001b[49m\u001b[43m,\u001b[49m\n\u001b[0;32m   1741\u001b[0m \u001b[43m    \u001b[49m\u001b[43mis_text\u001b[49m\u001b[38;5;241;43m=\u001b[39;49m\u001b[43mis_text\u001b[49m\u001b[43m,\u001b[49m\n\u001b[0;32m   1742\u001b[0m \u001b[43m    \u001b[49m\u001b[43merrors\u001b[49m\u001b[38;5;241;43m=\u001b[39;49m\u001b[38;5;28;43mself\u001b[39;49m\u001b[38;5;241;43m.\u001b[39;49m\u001b[43moptions\u001b[49m\u001b[38;5;241;43m.\u001b[39;49m\u001b[43mget\u001b[49m\u001b[43m(\u001b[49m\u001b[38;5;124;43m\"\u001b[39;49m\u001b[38;5;124;43mencoding_errors\u001b[39;49m\u001b[38;5;124;43m\"\u001b[39;49m\u001b[43m,\u001b[49m\u001b[43m \u001b[49m\u001b[38;5;124;43m\"\u001b[39;49m\u001b[38;5;124;43mstrict\u001b[39;49m\u001b[38;5;124;43m\"\u001b[39;49m\u001b[43m)\u001b[49m\u001b[43m,\u001b[49m\n\u001b[0;32m   1743\u001b[0m \u001b[43m    \u001b[49m\u001b[43mstorage_options\u001b[49m\u001b[38;5;241;43m=\u001b[39;49m\u001b[38;5;28;43mself\u001b[39;49m\u001b[38;5;241;43m.\u001b[39;49m\u001b[43moptions\u001b[49m\u001b[38;5;241;43m.\u001b[39;49m\u001b[43mget\u001b[49m\u001b[43m(\u001b[49m\u001b[38;5;124;43m\"\u001b[39;49m\u001b[38;5;124;43mstorage_options\u001b[39;49m\u001b[38;5;124;43m\"\u001b[39;49m\u001b[43m,\u001b[49m\u001b[43m \u001b[49m\u001b[38;5;28;43;01mNone\u001b[39;49;00m\u001b[43m)\u001b[49m\u001b[43m,\u001b[49m\n\u001b[0;32m   1744\u001b[0m \u001b[43m\u001b[49m\u001b[43m)\u001b[49m\n\u001b[0;32m   1745\u001b[0m \u001b[38;5;28;01massert\u001b[39;00m \u001b[38;5;28mself\u001b[39m\u001b[38;5;241m.\u001b[39mhandles \u001b[38;5;129;01mis\u001b[39;00m \u001b[38;5;129;01mnot\u001b[39;00m \u001b[38;5;28;01mNone\u001b[39;00m\n\u001b[0;32m   1746\u001b[0m f \u001b[38;5;241m=\u001b[39m \u001b[38;5;28mself\u001b[39m\u001b[38;5;241m.\u001b[39mhandles\u001b[38;5;241m.\u001b[39mhandle\n",
      "File \u001b[1;32m~\\anaconda3\\New folder\\lib\\site-packages\\pandas\\io\\common.py:856\u001b[0m, in \u001b[0;36mget_handle\u001b[1;34m(path_or_buf, mode, encoding, compression, memory_map, is_text, errors, storage_options)\u001b[0m\n\u001b[0;32m    851\u001b[0m \u001b[38;5;28;01melif\u001b[39;00m \u001b[38;5;28misinstance\u001b[39m(handle, \u001b[38;5;28mstr\u001b[39m):\n\u001b[0;32m    852\u001b[0m     \u001b[38;5;66;03m# Check whether the filename is to be opened in binary mode.\u001b[39;00m\n\u001b[0;32m    853\u001b[0m     \u001b[38;5;66;03m# Binary mode does not support 'encoding' and 'newline'.\u001b[39;00m\n\u001b[0;32m    854\u001b[0m     \u001b[38;5;28;01mif\u001b[39;00m ioargs\u001b[38;5;241m.\u001b[39mencoding \u001b[38;5;129;01mand\u001b[39;00m \u001b[38;5;124m\"\u001b[39m\u001b[38;5;124mb\u001b[39m\u001b[38;5;124m\"\u001b[39m \u001b[38;5;129;01mnot\u001b[39;00m \u001b[38;5;129;01min\u001b[39;00m ioargs\u001b[38;5;241m.\u001b[39mmode:\n\u001b[0;32m    855\u001b[0m         \u001b[38;5;66;03m# Encoding\u001b[39;00m\n\u001b[1;32m--> 856\u001b[0m         handle \u001b[38;5;241m=\u001b[39m \u001b[38;5;28;43mopen\u001b[39;49m\u001b[43m(\u001b[49m\n\u001b[0;32m    857\u001b[0m \u001b[43m            \u001b[49m\u001b[43mhandle\u001b[49m\u001b[43m,\u001b[49m\n\u001b[0;32m    858\u001b[0m \u001b[43m            \u001b[49m\u001b[43mioargs\u001b[49m\u001b[38;5;241;43m.\u001b[39;49m\u001b[43mmode\u001b[49m\u001b[43m,\u001b[49m\n\u001b[0;32m    859\u001b[0m \u001b[43m            \u001b[49m\u001b[43mencoding\u001b[49m\u001b[38;5;241;43m=\u001b[39;49m\u001b[43mioargs\u001b[49m\u001b[38;5;241;43m.\u001b[39;49m\u001b[43mencoding\u001b[49m\u001b[43m,\u001b[49m\n\u001b[0;32m    860\u001b[0m \u001b[43m            \u001b[49m\u001b[43merrors\u001b[49m\u001b[38;5;241;43m=\u001b[39;49m\u001b[43merrors\u001b[49m\u001b[43m,\u001b[49m\n\u001b[0;32m    861\u001b[0m \u001b[43m            \u001b[49m\u001b[43mnewline\u001b[49m\u001b[38;5;241;43m=\u001b[39;49m\u001b[38;5;124;43m\"\u001b[39;49m\u001b[38;5;124;43m\"\u001b[39;49m\u001b[43m,\u001b[49m\n\u001b[0;32m    862\u001b[0m \u001b[43m        \u001b[49m\u001b[43m)\u001b[49m\n\u001b[0;32m    863\u001b[0m     \u001b[38;5;28;01melse\u001b[39;00m:\n\u001b[0;32m    864\u001b[0m         \u001b[38;5;66;03m# Binary mode\u001b[39;00m\n\u001b[0;32m    865\u001b[0m         handle \u001b[38;5;241m=\u001b[39m \u001b[38;5;28mopen\u001b[39m(handle, ioargs\u001b[38;5;241m.\u001b[39mmode)\n",
      "\u001b[1;31mFileNotFoundError\u001b[0m: [Errno 2] No such file or directory: 'DS1_C5_S5_Computers_Data_Challenge.csv'"
     ]
    }
   ],
   "source": [
    "data=pd.read_csv('DS1_C5_S5_Computers_Data_Challenge.csv')\n",
    "data"
   ]
  },
  {
   "cell_type": "markdown",
   "id": "10952ce4",
   "metadata": {},
   "source": [
    "# task 2.1 extrat sample data "
   ]
  },
  {
   "cell_type": "code",
   "execution_count": 51,
   "id": "e3497948",
   "metadata": {
    "collapsed": true
   },
   "outputs": [
    {
     "data": {
      "text/html": [
       "<div>\n",
       "<style scoped>\n",
       "    .dataframe tbody tr th:only-of-type {\n",
       "        vertical-align: middle;\n",
       "    }\n",
       "\n",
       "    .dataframe tbody tr th {\n",
       "        vertical-align: top;\n",
       "    }\n",
       "\n",
       "    .dataframe thead th {\n",
       "        text-align: right;\n",
       "    }\n",
       "</style>\n",
       "<table border=\"1\" class=\"dataframe\">\n",
       "  <thead>\n",
       "    <tr style=\"text-align: right;\">\n",
       "      <th></th>\n",
       "      <th>index</th>\n",
       "      <th>price</th>\n",
       "      <th>speed</th>\n",
       "      <th>hd</th>\n",
       "      <th>ram</th>\n",
       "      <th>screen</th>\n",
       "      <th>cd</th>\n",
       "      <th>multi</th>\n",
       "      <th>premium</th>\n",
       "      <th>ads</th>\n",
       "      <th>trend</th>\n",
       "      <th>Zscore</th>\n",
       "      <th>zscore</th>\n",
       "    </tr>\n",
       "  </thead>\n",
       "  <tbody>\n",
       "    <tr>\n",
       "      <th>5758</th>\n",
       "      <td>5759</td>\n",
       "      <td>2273</td>\n",
       "      <td>50</td>\n",
       "      <td>850</td>\n",
       "      <td>16</td>\n",
       "      <td>15</td>\n",
       "      <td>yes</td>\n",
       "      <td>yes</td>\n",
       "      <td>yes</td>\n",
       "      <td>132</td>\n",
       "      <td>28</td>\n",
       "      <td>0.091982</td>\n",
       "      <td>-0.222700</td>\n",
       "    </tr>\n",
       "    <tr>\n",
       "      <th>3705</th>\n",
       "      <td>3706</td>\n",
       "      <td>2595</td>\n",
       "      <td>100</td>\n",
       "      <td>426</td>\n",
       "      <td>8</td>\n",
       "      <td>14</td>\n",
       "      <td>yes</td>\n",
       "      <td>no</td>\n",
       "      <td>yes</td>\n",
       "      <td>339</td>\n",
       "      <td>17</td>\n",
       "      <td>0.646386</td>\n",
       "      <td>0.458732</td>\n",
       "    </tr>\n",
       "    <tr>\n",
       "      <th>2378</th>\n",
       "      <td>2379</td>\n",
       "      <td>1494</td>\n",
       "      <td>33</td>\n",
       "      <td>240</td>\n",
       "      <td>4</td>\n",
       "      <td>15</td>\n",
       "      <td>no</td>\n",
       "      <td>no</td>\n",
       "      <td>yes</td>\n",
       "      <td>216</td>\n",
       "      <td>13</td>\n",
       "      <td>-1.249263</td>\n",
       "      <td>-1.871255</td>\n",
       "    </tr>\n",
       "    <tr>\n",
       "      <th>3321</th>\n",
       "      <td>3322</td>\n",
       "      <td>2290</td>\n",
       "      <td>25</td>\n",
       "      <td>528</td>\n",
       "      <td>16</td>\n",
       "      <td>15</td>\n",
       "      <td>yes</td>\n",
       "      <td>no</td>\n",
       "      <td>yes</td>\n",
       "      <td>307</td>\n",
       "      <td>16</td>\n",
       "      <td>0.121252</td>\n",
       "      <td>-0.186723</td>\n",
       "    </tr>\n",
       "    <tr>\n",
       "      <th>6202</th>\n",
       "      <td>6203</td>\n",
       "      <td>2595</td>\n",
       "      <td>100</td>\n",
       "      <td>1200</td>\n",
       "      <td>24</td>\n",
       "      <td>15</td>\n",
       "      <td>yes</td>\n",
       "      <td>no</td>\n",
       "      <td>yes</td>\n",
       "      <td>39</td>\n",
       "      <td>34</td>\n",
       "      <td>0.646386</td>\n",
       "      <td>0.458732</td>\n",
       "    </tr>\n",
       "    <tr>\n",
       "      <th>288</th>\n",
       "      <td>289</td>\n",
       "      <td>2595</td>\n",
       "      <td>25</td>\n",
       "      <td>340</td>\n",
       "      <td>16</td>\n",
       "      <td>14</td>\n",
       "      <td>no</td>\n",
       "      <td>no</td>\n",
       "      <td>yes</td>\n",
       "      <td>100</td>\n",
       "      <td>3</td>\n",
       "      <td>0.646386</td>\n",
       "      <td>0.458732</td>\n",
       "    </tr>\n",
       "    <tr>\n",
       "      <th>4179</th>\n",
       "      <td>4180</td>\n",
       "      <td>3490</td>\n",
       "      <td>100</td>\n",
       "      <td>1000</td>\n",
       "      <td>24</td>\n",
       "      <td>14</td>\n",
       "      <td>yes</td>\n",
       "      <td>no</td>\n",
       "      <td>yes</td>\n",
       "      <td>225</td>\n",
       "      <td>19</td>\n",
       "      <td>2.187353</td>\n",
       "      <td>2.352772</td>\n",
       "    </tr>\n",
       "    <tr>\n",
       "      <th>4198</th>\n",
       "      <td>4199</td>\n",
       "      <td>3395</td>\n",
       "      <td>100</td>\n",
       "      <td>1000</td>\n",
       "      <td>24</td>\n",
       "      <td>14</td>\n",
       "      <td>yes</td>\n",
       "      <td>no</td>\n",
       "      <td>yes</td>\n",
       "      <td>225</td>\n",
       "      <td>19</td>\n",
       "      <td>2.023787</td>\n",
       "      <td>2.151728</td>\n",
       "    </tr>\n",
       "    <tr>\n",
       "      <th>4287</th>\n",
       "      <td>4288</td>\n",
       "      <td>1728</td>\n",
       "      <td>33</td>\n",
       "      <td>212</td>\n",
       "      <td>4</td>\n",
       "      <td>14</td>\n",
       "      <td>yes</td>\n",
       "      <td>yes</td>\n",
       "      <td>yes</td>\n",
       "      <td>248</td>\n",
       "      <td>20</td>\n",
       "      <td>-0.846373</td>\n",
       "      <td>-1.376054</td>\n",
       "    </tr>\n",
       "    <tr>\n",
       "      <th>5696</th>\n",
       "      <td>5697</td>\n",
       "      <td>2399</td>\n",
       "      <td>66</td>\n",
       "      <td>730</td>\n",
       "      <td>16</td>\n",
       "      <td>15</td>\n",
       "      <td>yes</td>\n",
       "      <td>no</td>\n",
       "      <td>yes</td>\n",
       "      <td>163</td>\n",
       "      <td>27</td>\n",
       "      <td>0.308922</td>\n",
       "      <td>0.043947</td>\n",
       "    </tr>\n",
       "    <tr>\n",
       "      <th>5886</th>\n",
       "      <td>5887</td>\n",
       "      <td>1773</td>\n",
       "      <td>50</td>\n",
       "      <td>270</td>\n",
       "      <td>4</td>\n",
       "      <td>14</td>\n",
       "      <td>yes</td>\n",
       "      <td>no</td>\n",
       "      <td>no</td>\n",
       "      <td>129</td>\n",
       "      <td>29</td>\n",
       "      <td>-0.768894</td>\n",
       "      <td>-1.280823</td>\n",
       "    </tr>\n",
       "    <tr>\n",
       "      <th>2760</th>\n",
       "      <td>2761</td>\n",
       "      <td>1295</td>\n",
       "      <td>33</td>\n",
       "      <td>107</td>\n",
       "      <td>2</td>\n",
       "      <td>14</td>\n",
       "      <td>no</td>\n",
       "      <td>no</td>\n",
       "      <td>yes</td>\n",
       "      <td>292</td>\n",
       "      <td>14</td>\n",
       "      <td>-1.591891</td>\n",
       "      <td>-2.292388</td>\n",
       "    </tr>\n",
       "    <tr>\n",
       "      <th>3994</th>\n",
       "      <td>3995</td>\n",
       "      <td>2195</td>\n",
       "      <td>33</td>\n",
       "      <td>528</td>\n",
       "      <td>16</td>\n",
       "      <td>14</td>\n",
       "      <td>yes</td>\n",
       "      <td>no</td>\n",
       "      <td>yes</td>\n",
       "      <td>273</td>\n",
       "      <td>18</td>\n",
       "      <td>-0.042315</td>\n",
       "      <td>-0.387767</td>\n",
       "    </tr>\n",
       "    <tr>\n",
       "      <th>3082</th>\n",
       "      <td>3083</td>\n",
       "      <td>2390</td>\n",
       "      <td>50</td>\n",
       "      <td>420</td>\n",
       "      <td>8</td>\n",
       "      <td>15</td>\n",
       "      <td>yes</td>\n",
       "      <td>yes</td>\n",
       "      <td>yes</td>\n",
       "      <td>267</td>\n",
       "      <td>15</td>\n",
       "      <td>0.293427</td>\n",
       "      <td>0.024901</td>\n",
       "    </tr>\n",
       "    <tr>\n",
       "      <th>5211</th>\n",
       "      <td>5212</td>\n",
       "      <td>1898</td>\n",
       "      <td>66</td>\n",
       "      <td>420</td>\n",
       "      <td>8</td>\n",
       "      <td>14</td>\n",
       "      <td>yes</td>\n",
       "      <td>yes</td>\n",
       "      <td>yes</td>\n",
       "      <td>182</td>\n",
       "      <td>24</td>\n",
       "      <td>-0.553675</td>\n",
       "      <td>-1.016292</td>\n",
       "    </tr>\n",
       "    <tr>\n",
       "      <th>1914</th>\n",
       "      <td>1915</td>\n",
       "      <td>2090</td>\n",
       "      <td>25</td>\n",
       "      <td>426</td>\n",
       "      <td>8</td>\n",
       "      <td>15</td>\n",
       "      <td>no</td>\n",
       "      <td>no</td>\n",
       "      <td>yes</td>\n",
       "      <td>259</td>\n",
       "      <td>11</td>\n",
       "      <td>-0.223099</td>\n",
       "      <td>-0.609973</td>\n",
       "    </tr>\n",
       "    <tr>\n",
       "      <th>4940</th>\n",
       "      <td>4941</td>\n",
       "      <td>3290</td>\n",
       "      <td>66</td>\n",
       "      <td>1000</td>\n",
       "      <td>24</td>\n",
       "      <td>17</td>\n",
       "      <td>yes</td>\n",
       "      <td>no</td>\n",
       "      <td>yes</td>\n",
       "      <td>191</td>\n",
       "      <td>23</td>\n",
       "      <td>1.843003</td>\n",
       "      <td>1.929523</td>\n",
       "    </tr>\n",
       "    <tr>\n",
       "      <th>3282</th>\n",
       "      <td>3283</td>\n",
       "      <td>1495</td>\n",
       "      <td>33</td>\n",
       "      <td>340</td>\n",
       "      <td>4</td>\n",
       "      <td>14</td>\n",
       "      <td>yes</td>\n",
       "      <td>no</td>\n",
       "      <td>yes</td>\n",
       "      <td>307</td>\n",
       "      <td>16</td>\n",
       "      <td>-1.247541</td>\n",
       "      <td>-1.869139</td>\n",
       "    </tr>\n",
       "    <tr>\n",
       "      <th>5259</th>\n",
       "      <td>5260</td>\n",
       "      <td>1999</td>\n",
       "      <td>66</td>\n",
       "      <td>730</td>\n",
       "      <td>8</td>\n",
       "      <td>15</td>\n",
       "      <td>yes</td>\n",
       "      <td>no</td>\n",
       "      <td>yes</td>\n",
       "      <td>158</td>\n",
       "      <td>25</td>\n",
       "      <td>-0.379778</td>\n",
       "      <td>-0.802551</td>\n",
       "    </tr>\n",
       "    <tr>\n",
       "      <th>399</th>\n",
       "      <td>400</td>\n",
       "      <td>2395</td>\n",
       "      <td>33</td>\n",
       "      <td>340</td>\n",
       "      <td>8</td>\n",
       "      <td>14</td>\n",
       "      <td>no</td>\n",
       "      <td>no</td>\n",
       "      <td>yes</td>\n",
       "      <td>139</td>\n",
       "      <td>5</td>\n",
       "      <td>0.302035</td>\n",
       "      <td>0.035482</td>\n",
       "    </tr>\n",
       "    <tr>\n",
       "      <th>1543</th>\n",
       "      <td>1544</td>\n",
       "      <td>2899</td>\n",
       "      <td>50</td>\n",
       "      <td>240</td>\n",
       "      <td>4</td>\n",
       "      <td>14</td>\n",
       "      <td>no</td>\n",
       "      <td>no</td>\n",
       "      <td>no</td>\n",
       "      <td>283</td>\n",
       "      <td>10</td>\n",
       "      <td>1.169798</td>\n",
       "      <td>1.102070</td>\n",
       "    </tr>\n",
       "    <tr>\n",
       "      <th>2409</th>\n",
       "      <td>2410</td>\n",
       "      <td>2593</td>\n",
       "      <td>50</td>\n",
       "      <td>212</td>\n",
       "      <td>4</td>\n",
       "      <td>14</td>\n",
       "      <td>yes</td>\n",
       "      <td>no</td>\n",
       "      <td>no</td>\n",
       "      <td>216</td>\n",
       "      <td>13</td>\n",
       "      <td>0.642942</td>\n",
       "      <td>0.454499</td>\n",
       "    </tr>\n",
       "    <tr>\n",
       "      <th>450</th>\n",
       "      <td>451</td>\n",
       "      <td>1395</td>\n",
       "      <td>25</td>\n",
       "      <td>107</td>\n",
       "      <td>2</td>\n",
       "      <td>14</td>\n",
       "      <td>no</td>\n",
       "      <td>no</td>\n",
       "      <td>yes</td>\n",
       "      <td>139</td>\n",
       "      <td>5</td>\n",
       "      <td>-1.419716</td>\n",
       "      <td>-2.080764</td>\n",
       "    </tr>\n",
       "    <tr>\n",
       "      <th>5076</th>\n",
       "      <td>5077</td>\n",
       "      <td>2058</td>\n",
       "      <td>66</td>\n",
       "      <td>545</td>\n",
       "      <td>8</td>\n",
       "      <td>17</td>\n",
       "      <td>yes</td>\n",
       "      <td>no</td>\n",
       "      <td>yes</td>\n",
       "      <td>182</td>\n",
       "      <td>24</td>\n",
       "      <td>-0.278195</td>\n",
       "      <td>-0.677693</td>\n",
       "    </tr>\n",
       "    <tr>\n",
       "      <th>397</th>\n",
       "      <td>398</td>\n",
       "      <td>1795</td>\n",
       "      <td>33</td>\n",
       "      <td>170</td>\n",
       "      <td>4</td>\n",
       "      <td>14</td>\n",
       "      <td>no</td>\n",
       "      <td>no</td>\n",
       "      <td>yes</td>\n",
       "      <td>139</td>\n",
       "      <td>5</td>\n",
       "      <td>-0.731015</td>\n",
       "      <td>-1.234265</td>\n",
       "    </tr>\n",
       "    <tr>\n",
       "      <th>4829</th>\n",
       "      <td>4830</td>\n",
       "      <td>2044</td>\n",
       "      <td>33</td>\n",
       "      <td>528</td>\n",
       "      <td>8</td>\n",
       "      <td>14</td>\n",
       "      <td>yes</td>\n",
       "      <td>no</td>\n",
       "      <td>yes</td>\n",
       "      <td>162</td>\n",
       "      <td>22</td>\n",
       "      <td>-0.302299</td>\n",
       "      <td>-0.707320</td>\n",
       "    </tr>\n",
       "    <tr>\n",
       "      <th>5851</th>\n",
       "      <td>5852</td>\n",
       "      <td>1704</td>\n",
       "      <td>50</td>\n",
       "      <td>545</td>\n",
       "      <td>4</td>\n",
       "      <td>17</td>\n",
       "      <td>yes</td>\n",
       "      <td>yes</td>\n",
       "      <td>yes</td>\n",
       "      <td>129</td>\n",
       "      <td>29</td>\n",
       "      <td>-0.887695</td>\n",
       "      <td>-1.426844</td>\n",
       "    </tr>\n",
       "    <tr>\n",
       "      <th>5529</th>\n",
       "      <td>5530</td>\n",
       "      <td>1873</td>\n",
       "      <td>66</td>\n",
       "      <td>528</td>\n",
       "      <td>8</td>\n",
       "      <td>14</td>\n",
       "      <td>yes</td>\n",
       "      <td>yes</td>\n",
       "      <td>yes</td>\n",
       "      <td>152</td>\n",
       "      <td>26</td>\n",
       "      <td>-0.596719</td>\n",
       "      <td>-1.069198</td>\n",
       "    </tr>\n",
       "    <tr>\n",
       "      <th>21</th>\n",
       "      <td>22</td>\n",
       "      <td>2795</td>\n",
       "      <td>66</td>\n",
       "      <td>130</td>\n",
       "      <td>4</td>\n",
       "      <td>14</td>\n",
       "      <td>no</td>\n",
       "      <td>no</td>\n",
       "      <td>yes</td>\n",
       "      <td>94</td>\n",
       "      <td>1</td>\n",
       "      <td>0.990736</td>\n",
       "      <td>0.881981</td>\n",
       "    </tr>\n",
       "    <tr>\n",
       "      <th>5337</th>\n",
       "      <td>5338</td>\n",
       "      <td>2745</td>\n",
       "      <td>66</td>\n",
       "      <td>1000</td>\n",
       "      <td>24</td>\n",
       "      <td>15</td>\n",
       "      <td>yes</td>\n",
       "      <td>no</td>\n",
       "      <td>yes</td>\n",
       "      <td>158</td>\n",
       "      <td>25</td>\n",
       "      <td>0.904648</td>\n",
       "      <td>0.776168</td>\n",
       "    </tr>\n",
       "    <tr>\n",
       "      <th>5711</th>\n",
       "      <td>5712</td>\n",
       "      <td>2940</td>\n",
       "      <td>66</td>\n",
       "      <td>1000</td>\n",
       "      <td>24</td>\n",
       "      <td>17</td>\n",
       "      <td>yes</td>\n",
       "      <td>no</td>\n",
       "      <td>yes</td>\n",
       "      <td>132</td>\n",
       "      <td>28</td>\n",
       "      <td>1.240390</td>\n",
       "      <td>1.188836</td>\n",
       "    </tr>\n",
       "    <tr>\n",
       "      <th>1959</th>\n",
       "      <td>1960</td>\n",
       "      <td>2190</td>\n",
       "      <td>50</td>\n",
       "      <td>424</td>\n",
       "      <td>4</td>\n",
       "      <td>14</td>\n",
       "      <td>yes</td>\n",
       "      <td>yes</td>\n",
       "      <td>yes</td>\n",
       "      <td>259</td>\n",
       "      <td>11</td>\n",
       "      <td>-0.050924</td>\n",
       "      <td>-0.398348</td>\n",
       "    </tr>\n",
       "    <tr>\n",
       "      <th>263</th>\n",
       "      <td>264</td>\n",
       "      <td>2345</td>\n",
       "      <td>50</td>\n",
       "      <td>250</td>\n",
       "      <td>8</td>\n",
       "      <td>14</td>\n",
       "      <td>no</td>\n",
       "      <td>no</td>\n",
       "      <td>yes</td>\n",
       "      <td>100</td>\n",
       "      <td>3</td>\n",
       "      <td>0.215948</td>\n",
       "      <td>-0.070330</td>\n",
       "    </tr>\n",
       "    <tr>\n",
       "      <th>5186</th>\n",
       "      <td>5187</td>\n",
       "      <td>1399</td>\n",
       "      <td>33</td>\n",
       "      <td>210</td>\n",
       "      <td>4</td>\n",
       "      <td>14</td>\n",
       "      <td>yes</td>\n",
       "      <td>yes</td>\n",
       "      <td>yes</td>\n",
       "      <td>182</td>\n",
       "      <td>24</td>\n",
       "      <td>-1.412829</td>\n",
       "      <td>-2.072299</td>\n",
       "    </tr>\n",
       "    <tr>\n",
       "      <th>3925</th>\n",
       "      <td>3926</td>\n",
       "      <td>1995</td>\n",
       "      <td>66</td>\n",
       "      <td>425</td>\n",
       "      <td>8</td>\n",
       "      <td>15</td>\n",
       "      <td>yes</td>\n",
       "      <td>yes</td>\n",
       "      <td>yes</td>\n",
       "      <td>273</td>\n",
       "      <td>18</td>\n",
       "      <td>-0.386665</td>\n",
       "      <td>-0.811016</td>\n",
       "    </tr>\n",
       "    <tr>\n",
       "      <th>3497</th>\n",
       "      <td>3498</td>\n",
       "      <td>2695</td>\n",
       "      <td>66</td>\n",
       "      <td>528</td>\n",
       "      <td>8</td>\n",
       "      <td>15</td>\n",
       "      <td>yes</td>\n",
       "      <td>no</td>\n",
       "      <td>yes</td>\n",
       "      <td>339</td>\n",
       "      <td>17</td>\n",
       "      <td>0.818561</td>\n",
       "      <td>0.670356</td>\n",
       "    </tr>\n",
       "    <tr>\n",
       "      <th>5410</th>\n",
       "      <td>5411</td>\n",
       "      <td>1840</td>\n",
       "      <td>66</td>\n",
       "      <td>528</td>\n",
       "      <td>8</td>\n",
       "      <td>14</td>\n",
       "      <td>yes</td>\n",
       "      <td>no</td>\n",
       "      <td>yes</td>\n",
       "      <td>152</td>\n",
       "      <td>26</td>\n",
       "      <td>-0.653537</td>\n",
       "      <td>-1.139034</td>\n",
       "    </tr>\n",
       "    <tr>\n",
       "      <th>5403</th>\n",
       "      <td>5404</td>\n",
       "      <td>1745</td>\n",
       "      <td>66</td>\n",
       "      <td>528</td>\n",
       "      <td>8</td>\n",
       "      <td>14</td>\n",
       "      <td>yes</td>\n",
       "      <td>no</td>\n",
       "      <td>yes</td>\n",
       "      <td>152</td>\n",
       "      <td>26</td>\n",
       "      <td>-0.817103</td>\n",
       "      <td>-1.340077</td>\n",
       "    </tr>\n",
       "    <tr>\n",
       "      <th>1451</th>\n",
       "      <td>1452</td>\n",
       "      <td>1599</td>\n",
       "      <td>33</td>\n",
       "      <td>212</td>\n",
       "      <td>4</td>\n",
       "      <td>14</td>\n",
       "      <td>no</td>\n",
       "      <td>no</td>\n",
       "      <td>yes</td>\n",
       "      <td>246</td>\n",
       "      <td>9</td>\n",
       "      <td>-1.068479</td>\n",
       "      <td>-1.649049</td>\n",
       "    </tr>\n",
       "    <tr>\n",
       "      <th>2266</th>\n",
       "      <td>2267</td>\n",
       "      <td>2695</td>\n",
       "      <td>33</td>\n",
       "      <td>528</td>\n",
       "      <td>16</td>\n",
       "      <td>14</td>\n",
       "      <td>no</td>\n",
       "      <td>no</td>\n",
       "      <td>yes</td>\n",
       "      <td>275</td>\n",
       "      <td>12</td>\n",
       "      <td>0.818561</td>\n",
       "      <td>0.670356</td>\n",
       "    </tr>\n",
       "    <tr>\n",
       "      <th>5314</th>\n",
       "      <td>5315</td>\n",
       "      <td>1640</td>\n",
       "      <td>66</td>\n",
       "      <td>214</td>\n",
       "      <td>4</td>\n",
       "      <td>14</td>\n",
       "      <td>no</td>\n",
       "      <td>no</td>\n",
       "      <td>yes</td>\n",
       "      <td>158</td>\n",
       "      <td>25</td>\n",
       "      <td>-0.997887</td>\n",
       "      <td>-1.562283</td>\n",
       "    </tr>\n",
       "    <tr>\n",
       "      <th>2144</th>\n",
       "      <td>2145</td>\n",
       "      <td>1949</td>\n",
       "      <td>50</td>\n",
       "      <td>245</td>\n",
       "      <td>4</td>\n",
       "      <td>15</td>\n",
       "      <td>yes</td>\n",
       "      <td>yes</td>\n",
       "      <td>yes</td>\n",
       "      <td>275</td>\n",
       "      <td>12</td>\n",
       "      <td>-0.465866</td>\n",
       "      <td>-0.908363</td>\n",
       "    </tr>\n",
       "    <tr>\n",
       "      <th>3445</th>\n",
       "      <td>3446</td>\n",
       "      <td>1495</td>\n",
       "      <td>50</td>\n",
       "      <td>107</td>\n",
       "      <td>2</td>\n",
       "      <td>14</td>\n",
       "      <td>no</td>\n",
       "      <td>no</td>\n",
       "      <td>yes</td>\n",
       "      <td>339</td>\n",
       "      <td>17</td>\n",
       "      <td>-1.247541</td>\n",
       "      <td>-1.869139</td>\n",
       "    </tr>\n",
       "    <tr>\n",
       "      <th>29</th>\n",
       "      <td>30</td>\n",
       "      <td>3244</td>\n",
       "      <td>66</td>\n",
       "      <td>245</td>\n",
       "      <td>8</td>\n",
       "      <td>14</td>\n",
       "      <td>no</td>\n",
       "      <td>no</td>\n",
       "      <td>yes</td>\n",
       "      <td>94</td>\n",
       "      <td>1</td>\n",
       "      <td>1.763802</td>\n",
       "      <td>1.832175</td>\n",
       "    </tr>\n",
       "    <tr>\n",
       "      <th>2560</th>\n",
       "      <td>2561</td>\n",
       "      <td>2144</td>\n",
       "      <td>25</td>\n",
       "      <td>426</td>\n",
       "      <td>8</td>\n",
       "      <td>14</td>\n",
       "      <td>yes</td>\n",
       "      <td>no</td>\n",
       "      <td>yes</td>\n",
       "      <td>292</td>\n",
       "      <td>14</td>\n",
       "      <td>-0.130124</td>\n",
       "      <td>-0.495695</td>\n",
       "    </tr>\n",
       "    <tr>\n",
       "      <th>1290</th>\n",
       "      <td>1291</td>\n",
       "      <td>1894</td>\n",
       "      <td>25</td>\n",
       "      <td>120</td>\n",
       "      <td>4</td>\n",
       "      <td>14</td>\n",
       "      <td>yes</td>\n",
       "      <td>no</td>\n",
       "      <td>no</td>\n",
       "      <td>246</td>\n",
       "      <td>9</td>\n",
       "      <td>-0.560562</td>\n",
       "      <td>-1.024757</td>\n",
       "    </tr>\n",
       "    <tr>\n",
       "      <th>309</th>\n",
       "      <td>310</td>\n",
       "      <td>3795</td>\n",
       "      <td>33</td>\n",
       "      <td>452</td>\n",
       "      <td>8</td>\n",
       "      <td>14</td>\n",
       "      <td>no</td>\n",
       "      <td>no</td>\n",
       "      <td>yes</td>\n",
       "      <td>108</td>\n",
       "      <td>4</td>\n",
       "      <td>2.712487</td>\n",
       "      <td>2.998227</td>\n",
       "    </tr>\n",
       "    <tr>\n",
       "      <th>189</th>\n",
       "      <td>190</td>\n",
       "      <td>2999</td>\n",
       "      <td>66</td>\n",
       "      <td>245</td>\n",
       "      <td>16</td>\n",
       "      <td>15</td>\n",
       "      <td>no</td>\n",
       "      <td>no</td>\n",
       "      <td>yes</td>\n",
       "      <td>100</td>\n",
       "      <td>3</td>\n",
       "      <td>1.341973</td>\n",
       "      <td>1.313695</td>\n",
       "    </tr>\n",
       "    <tr>\n",
       "      <th>205</th>\n",
       "      <td>206</td>\n",
       "      <td>2099</td>\n",
       "      <td>66</td>\n",
       "      <td>120</td>\n",
       "      <td>4</td>\n",
       "      <td>14</td>\n",
       "      <td>no</td>\n",
       "      <td>no</td>\n",
       "      <td>yes</td>\n",
       "      <td>100</td>\n",
       "      <td>3</td>\n",
       "      <td>-0.207603</td>\n",
       "      <td>-0.590926</td>\n",
       "    </tr>\n",
       "    <tr>\n",
       "      <th>2448</th>\n",
       "      <td>2449</td>\n",
       "      <td>2995</td>\n",
       "      <td>66</td>\n",
       "      <td>528</td>\n",
       "      <td>8</td>\n",
       "      <td>15</td>\n",
       "      <td>no</td>\n",
       "      <td>no</td>\n",
       "      <td>yes</td>\n",
       "      <td>216</td>\n",
       "      <td>13</td>\n",
       "      <td>1.335086</td>\n",
       "      <td>1.305230</td>\n",
       "    </tr>\n",
       "  </tbody>\n",
       "</table>\n",
       "</div>"
      ],
      "text/plain": [
       "      index  price  speed    hd  ram  screen   cd multi premium  ads  trend  \\\n",
       "5758   5759   2273     50   850   16      15  yes   yes     yes  132     28   \n",
       "3705   3706   2595    100   426    8      14  yes    no     yes  339     17   \n",
       "2378   2379   1494     33   240    4      15   no    no     yes  216     13   \n",
       "3321   3322   2290     25   528   16      15  yes    no     yes  307     16   \n",
       "6202   6203   2595    100  1200   24      15  yes    no     yes   39     34   \n",
       "288     289   2595     25   340   16      14   no    no     yes  100      3   \n",
       "4179   4180   3490    100  1000   24      14  yes    no     yes  225     19   \n",
       "4198   4199   3395    100  1000   24      14  yes    no     yes  225     19   \n",
       "4287   4288   1728     33   212    4      14  yes   yes     yes  248     20   \n",
       "5696   5697   2399     66   730   16      15  yes    no     yes  163     27   \n",
       "5886   5887   1773     50   270    4      14  yes    no      no  129     29   \n",
       "2760   2761   1295     33   107    2      14   no    no     yes  292     14   \n",
       "3994   3995   2195     33   528   16      14  yes    no     yes  273     18   \n",
       "3082   3083   2390     50   420    8      15  yes   yes     yes  267     15   \n",
       "5211   5212   1898     66   420    8      14  yes   yes     yes  182     24   \n",
       "1914   1915   2090     25   426    8      15   no    no     yes  259     11   \n",
       "4940   4941   3290     66  1000   24      17  yes    no     yes  191     23   \n",
       "3282   3283   1495     33   340    4      14  yes    no     yes  307     16   \n",
       "5259   5260   1999     66   730    8      15  yes    no     yes  158     25   \n",
       "399     400   2395     33   340    8      14   no    no     yes  139      5   \n",
       "1543   1544   2899     50   240    4      14   no    no      no  283     10   \n",
       "2409   2410   2593     50   212    4      14  yes    no      no  216     13   \n",
       "450     451   1395     25   107    2      14   no    no     yes  139      5   \n",
       "5076   5077   2058     66   545    8      17  yes    no     yes  182     24   \n",
       "397     398   1795     33   170    4      14   no    no     yes  139      5   \n",
       "4829   4830   2044     33   528    8      14  yes    no     yes  162     22   \n",
       "5851   5852   1704     50   545    4      17  yes   yes     yes  129     29   \n",
       "5529   5530   1873     66   528    8      14  yes   yes     yes  152     26   \n",
       "21       22   2795     66   130    4      14   no    no     yes   94      1   \n",
       "5337   5338   2745     66  1000   24      15  yes    no     yes  158     25   \n",
       "5711   5712   2940     66  1000   24      17  yes    no     yes  132     28   \n",
       "1959   1960   2190     50   424    4      14  yes   yes     yes  259     11   \n",
       "263     264   2345     50   250    8      14   no    no     yes  100      3   \n",
       "5186   5187   1399     33   210    4      14  yes   yes     yes  182     24   \n",
       "3925   3926   1995     66   425    8      15  yes   yes     yes  273     18   \n",
       "3497   3498   2695     66   528    8      15  yes    no     yes  339     17   \n",
       "5410   5411   1840     66   528    8      14  yes    no     yes  152     26   \n",
       "5403   5404   1745     66   528    8      14  yes    no     yes  152     26   \n",
       "1451   1452   1599     33   212    4      14   no    no     yes  246      9   \n",
       "2266   2267   2695     33   528   16      14   no    no     yes  275     12   \n",
       "5314   5315   1640     66   214    4      14   no    no     yes  158     25   \n",
       "2144   2145   1949     50   245    4      15  yes   yes     yes  275     12   \n",
       "3445   3446   1495     50   107    2      14   no    no     yes  339     17   \n",
       "29       30   3244     66   245    8      14   no    no     yes   94      1   \n",
       "2560   2561   2144     25   426    8      14  yes    no     yes  292     14   \n",
       "1290   1291   1894     25   120    4      14  yes    no      no  246      9   \n",
       "309     310   3795     33   452    8      14   no    no     yes  108      4   \n",
       "189     190   2999     66   245   16      15   no    no     yes  100      3   \n",
       "205     206   2099     66   120    4      14   no    no     yes  100      3   \n",
       "2448   2449   2995     66   528    8      15   no    no     yes  216     13   \n",
       "\n",
       "        Zscore    zscore  \n",
       "5758  0.091982 -0.222700  \n",
       "3705  0.646386  0.458732  \n",
       "2378 -1.249263 -1.871255  \n",
       "3321  0.121252 -0.186723  \n",
       "6202  0.646386  0.458732  \n",
       "288   0.646386  0.458732  \n",
       "4179  2.187353  2.352772  \n",
       "4198  2.023787  2.151728  \n",
       "4287 -0.846373 -1.376054  \n",
       "5696  0.308922  0.043947  \n",
       "5886 -0.768894 -1.280823  \n",
       "2760 -1.591891 -2.292388  \n",
       "3994 -0.042315 -0.387767  \n",
       "3082  0.293427  0.024901  \n",
       "5211 -0.553675 -1.016292  \n",
       "1914 -0.223099 -0.609973  \n",
       "4940  1.843003  1.929523  \n",
       "3282 -1.247541 -1.869139  \n",
       "5259 -0.379778 -0.802551  \n",
       "399   0.302035  0.035482  \n",
       "1543  1.169798  1.102070  \n",
       "2409  0.642942  0.454499  \n",
       "450  -1.419716 -2.080764  \n",
       "5076 -0.278195 -0.677693  \n",
       "397  -0.731015 -1.234265  \n",
       "4829 -0.302299 -0.707320  \n",
       "5851 -0.887695 -1.426844  \n",
       "5529 -0.596719 -1.069198  \n",
       "21    0.990736  0.881981  \n",
       "5337  0.904648  0.776168  \n",
       "5711  1.240390  1.188836  \n",
       "1959 -0.050924 -0.398348  \n",
       "263   0.215948 -0.070330  \n",
       "5186 -1.412829 -2.072299  \n",
       "3925 -0.386665 -0.811016  \n",
       "3497  0.818561  0.670356  \n",
       "5410 -0.653537 -1.139034  \n",
       "5403 -0.817103 -1.340077  \n",
       "1451 -1.068479 -1.649049  \n",
       "2266  0.818561  0.670356  \n",
       "5314 -0.997887 -1.562283  \n",
       "2144 -0.465866 -0.908363  \n",
       "3445 -1.247541 -1.869139  \n",
       "29    1.763802  1.832175  \n",
       "2560 -0.130124 -0.495695  \n",
       "1290 -0.560562 -1.024757  \n",
       "309   2.712487  2.998227  \n",
       "189   1.341973  1.313695  \n",
       "205  -0.207603 -0.590926  \n",
       "2448  1.335086  1.305230  "
      ]
     },
     "execution_count": 51,
     "metadata": {},
     "output_type": "execute_result"
    }
   ],
   "source": [
    "sample_50=data[(data['price']<4000)].sample(50)\n",
    "sample_50"
   ]
  },
  {
   "cell_type": "markdown",
   "id": "9718d3bf",
   "metadata": {},
   "source": [
    "# centeral tendency"
   ]
  },
  {
   "cell_type": "code",
   "execution_count": 58,
   "id": "8e31379e",
   "metadata": {},
   "outputs": [
    {
     "name": "stdout",
     "output_type": "stream",
     "text": [
      " mean: 2265.44\n",
      " median: 2167.0\n",
      " std: 603.6195639301164\n",
      " skew: 0.5252616701378658\n",
      " kurtosis: 2.5844063636016292\n"
     ]
    }
   ],
   "source": [
    "print (' mean:',sample_50['price'].mean())\n",
    "print (' median:',sample_50['price'].median())\n",
    "print (' std:',sample_50['price'].std())\n",
    "print (' skew:',st.skew(sample_50['price']))\n",
    "print(' kurtosis:',st.kurtosis (sample_50['price'],fisher=False))"
   ]
  },
  {
   "cell_type": "code",
   "execution_count": 59,
   "id": "fe00bcf8",
   "metadata": {},
   "outputs": [
    {
     "name": "stdout",
     "output_type": "stream",
     "text": [
      " mean: 2219.576609682058\n",
      " median: 2144.0\n",
      " std: 580.8039556527048\n",
      " skew: 0.7115541683835676\n",
      " kurtosis: 3.728875207412418\n"
     ]
    }
   ],
   "source": [
    "print (' mean:',data['price'].mean())\n",
    "print (' median:',data['price'].median())\n",
    "print (' std:',data['price'].std())\n",
    "print (' skew:',st.skew(data['price']))\n",
    "print(' kurtosis:',st.kurtosis (data['price'],fisher=False))"
   ]
  },
  {
   "cell_type": "markdown",
   "id": "50ee5018",
   "metadata": {},
   "source": [
    "# population normal distrubution"
   ]
  },
  {
   "cell_type": "code",
   "execution_count": null,
   "id": "32708242",
   "metadata": {},
   "outputs": [],
   "source": []
  },
  {
   "cell_type": "code",
   "execution_count": 10,
   "id": "0805d072",
   "metadata": {},
   "outputs": [
    {
     "ename": "NameError",
     "evalue": "name 'data' is not defined",
     "output_type": "error",
     "traceback": [
      "\u001b[1;31m---------------------------------------------------------------------------\u001b[0m",
      "\u001b[1;31mNameError\u001b[0m                                 Traceback (most recent call last)",
      "Cell \u001b[1;32mIn[10], line 1\u001b[0m\n\u001b[1;32m----> 1\u001b[0m popmean\u001b[38;5;241m=\u001b[39m\u001b[43mdata\u001b[49m[\u001b[38;5;124m'\u001b[39m\u001b[38;5;124mprice\u001b[39m\u001b[38;5;124m'\u001b[39m]\u001b[38;5;241m.\u001b[39mmean()\n\u001b[0;32m      2\u001b[0m popstd\u001b[38;5;241m=\u001b[39mdata[\u001b[38;5;124m'\u001b[39m\u001b[38;5;124mprice\u001b[39m\u001b[38;5;124m'\u001b[39m]\u001b[38;5;241m.\u001b[39mstd()\n\u001b[0;32m      3\u001b[0m lower\u001b[38;5;241m=\u001b[39mmean\u001b[38;5;241m-\u001b[39m\u001b[38;5;241m3\u001b[39m\u001b[38;5;241m*\u001b[39mstd\n",
      "\u001b[1;31mNameError\u001b[0m: name 'data' is not defined"
     ]
    }
   ],
   "source": [
    "popmean=data['price'].mean()\n",
    "popstd=data['price'].std()\n",
    "lower=mean-3*std\n",
    "upper=mean+3*std\n",
    "b=np.arange(lower,upper,.1)\n",
    "norm_probs=st.norm.pdf(b,loc=mean,scaler=std)\n",
    "plt.plot(b,norm_prob)"
   ]
  },
  {
   "cell_type": "code",
   "execution_count": 52,
   "id": "387ee7e6",
   "metadata": {},
   "outputs": [
    {
     "data": {
      "text/plain": [
       "[<matplotlib.lines.Line2D at 0x2429225d4c0>]"
      ]
     },
     "execution_count": 52,
     "metadata": {},
     "output_type": "execute_result"
    },
    {
     "data": {
      "image/png": "[encoded data removed]",
      "text/plain": [
       "<Figure size 640x480 with 1 Axes>"
      ]
     },
     "metadata": {},
     "output_type": "display_data"
    }
   ],
   "source": [
    "popmean=data['price'].mean()\n",
    "popstd=data['price'].std()\n",
    "lower=mean-3*std\n",
    "upper=mean+3*std\n",
    "d=np.arange(lower,upper,.1)\n",
    "norm_prob=st.norm.pdf(d,loc=mean,scale=std)\n",
    "plt.plot(d,norm_prob)"
   ]
  },
  {
   "cell_type": "markdown",
   "id": "97a047fc",
   "metadata": {},
   "source": [
    "# sample normal distrubution"
   ]
  },
  {
   "cell_type": "code",
   "execution_count": null,
   "id": "0d1f3e34",
   "metadata": {},
   "outputs": [],
   "source": []
  },
  {
   "cell_type": "code",
   "execution_count": 11,
   "id": "97c1d5f7",
   "metadata": {},
   "outputs": [
    {
     "ename": "NameError",
     "evalue": "name 'data' is not defined",
     "output_type": "error",
     "traceback": [
      "\u001b[1;31m---------------------------------------------------------------------------\u001b[0m",
      "\u001b[1;31mNameError\u001b[0m                                 Traceback (most recent call last)",
      "Cell \u001b[1;32mIn[11], line 1\u001b[0m\n\u001b[1;32m----> 1\u001b[0m sample_mean\u001b[38;5;241m=\u001b[39m\u001b[43mdata\u001b[49m[\u001b[38;5;124m'\u001b[39m\u001b[38;5;124mprice\u001b[39m\u001b[38;5;124m'\u001b[39m]\u001b[38;5;241m.\u001b[39msample(n\u001b[38;5;241m=\u001b[39m\u001b[38;5;241m30\u001b[39m)\u001b[38;5;241m.\u001b[39mmean()\n\u001b[0;32m      2\u001b[0m sample_std\u001b[38;5;241m=\u001b[39mdata[\u001b[38;5;124m'\u001b[39m\u001b[38;5;124mprice\u001b[39m\u001b[38;5;124m'\u001b[39m]\u001b[38;5;241m.\u001b[39msample(n\u001b[38;5;241m=\u001b[39m\u001b[38;5;241m30\u001b[39m)\u001b[38;5;241m.\u001b[39mmean()\n\u001b[0;32m      3\u001b[0m lower\u001b[38;5;241m=\u001b[39mmean\u001b[38;5;241m-\u001b[39m\u001b[38;5;241m3\u001b[39m\u001b[38;5;241m*\u001b[39mstd\n",
      "\u001b[1;31mNameError\u001b[0m: name 'data' is not defined"
     ]
    }
   ],
   "source": [
    "sample_mean=data['price'].sample(n=30).mean()\n",
    "sample_std=data['price'].sample(n=30).mean()\n",
    "lower=mean-3*std\n",
    "upper=mean+3*std\n",
    "df=np.arange(lower,upper,.1)\n",
    "norm_probs=st.norm.pdf(df,loc=mean,scaler=std)\n",
    "plt.plot(df,norm_probs)"
   ]
  },
  {
   "cell_type": "code",
   "execution_count": null,
   "id": "7700e4c8",
   "metadata": {},
   "outputs": [],
   "source": [
    "sample_mean=data['price'].sample(n=30).mean()"
   ]
  },
  {
   "cell_type": "code",
   "execution_count": 20,
   "id": "0dd2ec3b",
   "metadata": {},
   "outputs": [
    {
     "data": {
      "text/plain": [
       "[<matplotlib.lines.Line2D at 0x242900486d0>]"
      ]
     },
     "execution_count": 20,
     "metadata": {},
     "output_type": "execute_result"
    },
    {
     "data": {
      "image/png": "[encoded data removed]",
      "text/plain": [
       "<Figure size 640x480 with 1 Axes>"
      ]
     },
     "metadata": {},
     "output_type": "display_data"
    }
   ],
   "source": [
    "sample_mean=data['price'].sample(n=30).mean()\n",
    "sample_std=data['price'].sample(n=30).std()\n",
    "lower=mean-3*std\n",
    "upper=mean+3*std\n",
    "df=np.arange(lower,upper,.1)\n",
    "norm_prob=st.norm.pdf(df,loc=mean,scale=std)\n",
    "plt.plot(df,norm_prob)"
   ]
  },
  {
   "cell_type": "markdown",
   "id": "6551deab",
   "metadata": {},
   "source": [
    "# calculate z score"
   ]
  },
  {
   "cell_type": "markdown",
   "id": "b6ddcc11",
   "metadata": {},
   "source": [
    "# population z score'"
   ]
  },
  {
   "cell_type": "code",
   "execution_count": 13,
   "id": "ff93bf69",
   "metadata": {},
   "outputs": [
    {
     "ename": "NameError",
     "evalue": "name 'data' is not defined",
     "output_type": "error",
     "traceback": [
      "\u001b[1;31m---------------------------------------------------------------------------\u001b[0m",
      "\u001b[1;31mNameError\u001b[0m                                 Traceback (most recent call last)",
      "Cell \u001b[1;32mIn[13], line 1\u001b[0m\n\u001b[1;32m----> 1\u001b[0m data[\u001b[38;5;124m'\u001b[39m\u001b[38;5;124mZscore\u001b[39m\u001b[38;5;124m'\u001b[39m]\u001b[38;5;241m=\u001b[39m(\u001b[43mdata\u001b[49m[\u001b[38;5;124m'\u001b[39m\u001b[38;5;124mprice\u001b[39m\u001b[38;5;124m'\u001b[39m]\u001b[38;5;241m-\u001b[39mpopmean)\u001b[38;5;241m/\u001b[39mpopstd\n",
      "\u001b[1;31mNameError\u001b[0m: name 'data' is not defined"
     ]
    }
   ],
   "source": [
    "data['Zscore']=(data['price']-popmean)/popstd"
   ]
  },
  {
   "cell_type": "code",
   "execution_count": 41,
   "id": "9c89faf3",
   "metadata": {},
   "outputs": [
    {
     "data": {
      "text/html": [
       "<div>\n",
       "<style scoped>\n",
       "    .dataframe tbody tr th:only-of-type {\n",
       "        vertical-align: middle;\n",
       "    }\n",
       "\n",
       "    .dataframe tbody tr th {\n",
       "        vertical-align: top;\n",
       "    }\n",
       "\n",
       "    .dataframe thead th {\n",
       "        text-align: right;\n",
       "    }\n",
       "</style>\n",
       "<table border=\"1\" class=\"dataframe\">\n",
       "  <thead>\n",
       "    <tr style=\"text-align: right;\">\n",
       "      <th></th>\n",
       "      <th>index</th>\n",
       "      <th>price</th>\n",
       "      <th>speed</th>\n",
       "      <th>hd</th>\n",
       "      <th>ram</th>\n",
       "      <th>screen</th>\n",
       "      <th>cd</th>\n",
       "      <th>multi</th>\n",
       "      <th>premium</th>\n",
       "      <th>ads</th>\n",
       "      <th>trend</th>\n",
       "      <th>Zscore</th>\n",
       "      <th>zscore</th>\n",
       "    </tr>\n",
       "  </thead>\n",
       "  <tbody>\n",
       "    <tr>\n",
       "      <th>0</th>\n",
       "      <td>1</td>\n",
       "      <td>1499</td>\n",
       "      <td>25</td>\n",
       "      <td>80</td>\n",
       "      <td>4</td>\n",
       "      <td>14</td>\n",
       "      <td>no</td>\n",
       "      <td>no</td>\n",
       "      <td>yes</td>\n",
       "      <td>94</td>\n",
       "      <td>1</td>\n",
       "      <td>-1.240654</td>\n",
       "      <td>-1.860674</td>\n",
       "    </tr>\n",
       "    <tr>\n",
       "      <th>1</th>\n",
       "      <td>2</td>\n",
       "      <td>1795</td>\n",
       "      <td>33</td>\n",
       "      <td>85</td>\n",
       "      <td>2</td>\n",
       "      <td>14</td>\n",
       "      <td>no</td>\n",
       "      <td>no</td>\n",
       "      <td>yes</td>\n",
       "      <td>94</td>\n",
       "      <td>1</td>\n",
       "      <td>-0.731015</td>\n",
       "      <td>-1.234265</td>\n",
       "    </tr>\n",
       "    <tr>\n",
       "      <th>2</th>\n",
       "      <td>3</td>\n",
       "      <td>1595</td>\n",
       "      <td>25</td>\n",
       "      <td>170</td>\n",
       "      <td>4</td>\n",
       "      <td>15</td>\n",
       "      <td>no</td>\n",
       "      <td>no</td>\n",
       "      <td>yes</td>\n",
       "      <td>94</td>\n",
       "      <td>1</td>\n",
       "      <td>-1.075366</td>\n",
       "      <td>-1.657514</td>\n",
       "    </tr>\n",
       "    <tr>\n",
       "      <th>3</th>\n",
       "      <td>4</td>\n",
       "      <td>1849</td>\n",
       "      <td>25</td>\n",
       "      <td>170</td>\n",
       "      <td>8</td>\n",
       "      <td>14</td>\n",
       "      <td>no</td>\n",
       "      <td>no</td>\n",
       "      <td>no</td>\n",
       "      <td>94</td>\n",
       "      <td>1</td>\n",
       "      <td>-0.638041</td>\n",
       "      <td>-1.119988</td>\n",
       "    </tr>\n",
       "    <tr>\n",
       "      <th>4</th>\n",
       "      <td>5</td>\n",
       "      <td>3295</td>\n",
       "      <td>33</td>\n",
       "      <td>340</td>\n",
       "      <td>16</td>\n",
       "      <td>14</td>\n",
       "      <td>no</td>\n",
       "      <td>no</td>\n",
       "      <td>yes</td>\n",
       "      <td>94</td>\n",
       "      <td>1</td>\n",
       "      <td>1.851612</td>\n",
       "      <td>1.940104</td>\n",
       "    </tr>\n",
       "    <tr>\n",
       "      <th>...</th>\n",
       "      <td>...</td>\n",
       "      <td>...</td>\n",
       "      <td>...</td>\n",
       "      <td>...</td>\n",
       "      <td>...</td>\n",
       "      <td>...</td>\n",
       "      <td>...</td>\n",
       "      <td>...</td>\n",
       "      <td>...</td>\n",
       "      <td>...</td>\n",
       "      <td>...</td>\n",
       "      <td>...</td>\n",
       "      <td>...</td>\n",
       "    </tr>\n",
       "    <tr>\n",
       "      <th>6254</th>\n",
       "      <td>6255</td>\n",
       "      <td>1690</td>\n",
       "      <td>100</td>\n",
       "      <td>528</td>\n",
       "      <td>8</td>\n",
       "      <td>15</td>\n",
       "      <td>no</td>\n",
       "      <td>no</td>\n",
       "      <td>yes</td>\n",
       "      <td>39</td>\n",
       "      <td>35</td>\n",
       "      <td>-0.911799</td>\n",
       "      <td>-1.456471</td>\n",
       "    </tr>\n",
       "    <tr>\n",
       "      <th>6255</th>\n",
       "      <td>6256</td>\n",
       "      <td>2223</td>\n",
       "      <td>66</td>\n",
       "      <td>850</td>\n",
       "      <td>16</td>\n",
       "      <td>15</td>\n",
       "      <td>yes</td>\n",
       "      <td>yes</td>\n",
       "      <td>yes</td>\n",
       "      <td>39</td>\n",
       "      <td>35</td>\n",
       "      <td>0.005894</td>\n",
       "      <td>-0.328512</td>\n",
       "    </tr>\n",
       "    <tr>\n",
       "      <th>6256</th>\n",
       "      <td>6257</td>\n",
       "      <td>2654</td>\n",
       "      <td>100</td>\n",
       "      <td>1200</td>\n",
       "      <td>24</td>\n",
       "      <td>15</td>\n",
       "      <td>yes</td>\n",
       "      <td>no</td>\n",
       "      <td>yes</td>\n",
       "      <td>39</td>\n",
       "      <td>35</td>\n",
       "      <td>0.747969</td>\n",
       "      <td>0.583590</td>\n",
       "    </tr>\n",
       "    <tr>\n",
       "      <th>6257</th>\n",
       "      <td>6258</td>\n",
       "      <td>2195</td>\n",
       "      <td>100</td>\n",
       "      <td>850</td>\n",
       "      <td>16</td>\n",
       "      <td>15</td>\n",
       "      <td>yes</td>\n",
       "      <td>no</td>\n",
       "      <td>yes</td>\n",
       "      <td>39</td>\n",
       "      <td>35</td>\n",
       "      <td>-0.042315</td>\n",
       "      <td>-0.387767</td>\n",
       "    </tr>\n",
       "    <tr>\n",
       "      <th>6258</th>\n",
       "      <td>6259</td>\n",
       "      <td>2490</td>\n",
       "      <td>100</td>\n",
       "      <td>850</td>\n",
       "      <td>16</td>\n",
       "      <td>17</td>\n",
       "      <td>yes</td>\n",
       "      <td>no</td>\n",
       "      <td>yes</td>\n",
       "      <td>39</td>\n",
       "      <td>35</td>\n",
       "      <td>0.465602</td>\n",
       "      <td>0.236526</td>\n",
       "    </tr>\n",
       "  </tbody>\n",
       "</table>\n",
       "<p>6259 rows × 13 columns</p>\n",
       "</div>"
      ],
      "text/plain": [
       "      index  price  speed    hd  ram  screen   cd multi premium  ads  trend  \\\n",
       "0         1   1499     25    80    4      14   no    no     yes   94      1   \n",
       "1         2   1795     33    85    2      14   no    no     yes   94      1   \n",
       "2         3   1595     25   170    4      15   no    no     yes   94      1   \n",
       "3         4   1849     25   170    8      14   no    no      no   94      1   \n",
       "4         5   3295     33   340   16      14   no    no     yes   94      1   \n",
       "...     ...    ...    ...   ...  ...     ...  ...   ...     ...  ...    ...   \n",
       "6254   6255   1690    100   528    8      15   no    no     yes   39     35   \n",
       "6255   6256   2223     66   850   16      15  yes   yes     yes   39     35   \n",
       "6256   6257   2654    100  1200   24      15  yes    no     yes   39     35   \n",
       "6257   6258   2195    100   850   16      15  yes    no     yes   39     35   \n",
       "6258   6259   2490    100   850   16      17  yes    no     yes   39     35   \n",
       "\n",
       "        Zscore    zscore  \n",
       "0    -1.240654 -1.860674  \n",
       "1    -0.731015 -1.234265  \n",
       "2    -1.075366 -1.657514  \n",
       "3    -0.638041 -1.119988  \n",
       "4     1.851612  1.940104  \n",
       "...        ...       ...  \n",
       "6254 -0.911799 -1.456471  \n",
       "6255  0.005894 -0.328512  \n",
       "6256  0.747969  0.583590  \n",
       "6257 -0.042315 -0.387767  \n",
       "6258  0.465602  0.236526  \n",
       "\n",
       "[6259 rows x 13 columns]"
      ]
     },
     "execution_count": 41,
     "metadata": {},
     "output_type": "execute_result"
    }
   ],
   "source": [
    "data['Zscore']=(data['price']-popmean)/popstd\n",
    "data"
   ]
  },
  {
   "cell_type": "code",
   "execution_count": 38,
   "id": "f2dea3d2",
   "metadata": {},
   "outputs": [
    {
     "data": {
      "text/plain": [
       "array([3.64515021e-02, 4.51388984e-02, 5.53405586e-02, 6.71727573e-02,\n",
       "       8.07234785e-02, 9.60425352e-02, 1.13131727e-01, 1.31935685e-01,\n",
       "       1.52334121e-01, 1.74136238e-01, 1.97078016e-01, 2.20822977e-01,\n",
       "       2.44966893e-01, 2.69046647e-01, 2.92553183e-01, 3.14948198e-01,\n",
       "       3.35683877e-01, 3.54224741e-01, 3.70070406e-01, 3.82777919e-01,\n",
       "       3.91982296e-01, 3.97413927e-01, 3.98911695e-01, 3.96430910e-01,\n",
       "       3.90045531e-01, 3.79944496e-01, 3.66422441e-01, 3.49865424e-01,\n",
       "       3.30732628e-01, 3.09535250e-01, 2.86813931e-01, 2.63116100e-01,\n",
       "       2.38974555e-01, 2.14888391e-01, 1.91307194e-01, 1.68619076e-01,\n",
       "       1.47142850e-01, 1.27124330e-01, 1.08736474e-01, 9.20828748e-02,\n",
       "       7.72039549e-02, 6.40851319e-02, 5.26662106e-02, 4.28512916e-02,\n",
       "       3.45185716e-02, 2.75295284e-02, 2.17371089e-02, 1.69926787e-02,\n",
       "       1.31516114e-02, 1.00775078e-02, 7.64512117e-03, 5.74212522e-03,\n",
       "       4.26990291e-03, 3.14355018e-03, 2.29128888e-03, 1.65347013e-03,\n",
       "       1.18132642e-03, 8.35604046e-04, 5.85178291e-04, 4.05726088e-04,\n",
       "       2.78506103e-04, 1.89275130e-04, 1.27353078e-04, 8.48364321e-05,\n",
       "       5.59515856e-05, 3.65341878e-05, 2.36180246e-05, 1.51162735e-05,\n",
       "       9.57862043e-06, 6.00922192e-06, 3.73242060e-06, 2.29519700e-06,\n",
       "       1.39735390e-06, 8.42267245e-07, 5.02632385e-07, 2.96966922e-07,\n",
       "       1.73709169e-07])"
      ]
     },
     "execution_count": 38,
     "metadata": {},
     "output_type": "execute_result"
    }
   ],
   "source": []
  },
  {
   "cell_type": "markdown",
   "id": "065decbe",
   "metadata": {},
   "source": [
    "# probibality of z score"
   ]
  },
  {
   "cell_type": "code",
   "execution_count": 40,
   "id": "9930c823",
   "metadata": {},
   "outputs": [
    {
     "data": {
      "text/plain": [
       "array([3.64515021e-02, 4.51388984e-02, 5.53405586e-02, 6.71727573e-02,\n",
       "       8.07234785e-02, 9.60425352e-02, 1.13131727e-01, 1.31935685e-01,\n",
       "       1.52334121e-01, 1.74136238e-01, 1.97078016e-01, 2.20822977e-01,\n",
       "       2.44966893e-01, 2.69046647e-01, 2.92553183e-01, 3.14948198e-01,\n",
       "       3.35683877e-01, 3.54224741e-01, 3.70070406e-01, 3.82777919e-01,\n",
       "       3.91982296e-01, 3.97413927e-01, 3.98911695e-01, 3.96430910e-01,\n",
       "       3.90045531e-01, 3.79944496e-01, 3.66422441e-01, 3.49865424e-01,\n",
       "       3.30732628e-01, 3.09535250e-01, 2.86813931e-01, 2.63116100e-01,\n",
       "       2.38974555e-01, 2.14888391e-01, 1.91307194e-01, 1.68619076e-01,\n",
       "       1.47142850e-01, 1.27124330e-01, 1.08736474e-01, 9.20828748e-02,\n",
       "       7.72039549e-02, 6.40851319e-02, 5.26662106e-02, 4.28512916e-02,\n",
       "       3.45185716e-02, 2.75295284e-02, 2.17371089e-02, 1.69926787e-02,\n",
       "       1.31516114e-02, 1.00775078e-02, 7.64512117e-03, 5.74212522e-03,\n",
       "       4.26990291e-03, 3.14355018e-03, 2.29128888e-03, 1.65347013e-03,\n",
       "       1.18132642e-03, 8.35604046e-04, 5.85178291e-04, 4.05726088e-04,\n",
       "       2.78506103e-04, 1.89275130e-04, 1.27353078e-04, 8.48364321e-05,\n",
       "       5.59515856e-05, 3.65341878e-05, 2.36180246e-05, 1.51162735e-05,\n",
       "       9.57862043e-06, 6.00922192e-06, 3.73242060e-06, 2.29519700e-06,\n",
       "       1.39735390e-06, 8.42267245e-07, 5.02632385e-07, 2.96966922e-07,\n",
       "       1.73709169e-07])"
      ]
     },
     "execution_count": 40,
     "metadata": {},
     "output_type": "execute_result"
    }
   ],
   "source": [
    "D=np.arange(data['Zscore'].min(),data['Zscore'].max(),.1)\n",
    "prob=st.norm.pdf(D)\n",
    "prob"
   ]
  },
  {
   "cell_type": "code",
   "execution_count": 14,
   "id": "74df4fbf",
   "metadata": {},
   "outputs": [
    {
     "ename": "NameError",
     "evalue": "name 'data' is not defined",
     "output_type": "error",
     "traceback": [
      "\u001b[1;31m---------------------------------------------------------------------------\u001b[0m",
      "\u001b[1;31mNameError\u001b[0m                                 Traceback (most recent call last)",
      "Cell \u001b[1;32mIn[14], line 1\u001b[0m\n\u001b[1;32m----> 1\u001b[0m n\u001b[38;5;241m=\u001b[39mnp\u001b[38;5;241m.\u001b[39marange(\u001b[43mdata\u001b[49m[\u001b[38;5;124m'\u001b[39m\u001b[38;5;124mzscore\u001b[39m\u001b[38;5;124m'\u001b[39m]\u001b[38;5;241m.\u001b[39mmin(),data[\u001b[38;5;124m'\u001b[39m\u001b[38;5;124mzscore\u001b[39m\u001b[38;5;124m'\u001b[39m]\u001b[38;5;241m.\u001b[39mmax(),\u001b[38;5;241m.1\u001b[39m)\n",
      "\u001b[1;31mNameError\u001b[0m: name 'data' is not defined"
     ]
    }
   ],
   "source": [
    "n=np.arange(data['zscore'].min(),data['zscore'].max(),.1)"
   ]
  },
  {
   "cell_type": "markdown",
   "id": "9e851b67",
   "metadata": {},
   "source": [
    "# task 7\n"
   ]
  },
  {
   "cell_type": "markdown",
   "id": "8586ef5d",
   "metadata": {},
   "source": [
    "# draw the standard normal distrubution of distrubution curve"
   ]
  },
  {
   "cell_type": "code",
   "execution_count": 43,
   "id": "ac8e475e",
   "metadata": {
    "collapsed": true
   },
   "outputs": [
    {
     "data": {
      "text/plain": [
       "[<matplotlib.lines.Line2D at 0x242920c28e0>]"
      ]
     },
     "execution_count": 43,
     "metadata": {},
     "output_type": "execute_result"
    },
    {
     "data": {
      "image/png": "[encoded data removed]",
      "text/plain": [
       "<Figure size 640x480 with 1 Axes>"
      ]
     },
     "metadata": {},
     "output_type": "display_data"
    }
   ],
   "source": [
    "D=np.arange(data['Zscore'].min(),data['Zscore'].max(),.1)\n",
    "prob=st.norm.pdf(D)\n",
    "plt.plot(D,prob)"
   ]
  },
  {
   "cell_type": "markdown",
   "id": "b2c58d8f",
   "metadata": {},
   "source": [
    "# task 8"
   ]
  },
  {
   "cell_type": "markdown",
   "id": "2971e2c4",
   "metadata": {},
   "source": [
    "# find the probiblity of occurance of the price greater than 2700"
   ]
  },
  {
   "cell_type": "code",
   "execution_count": 60,
   "id": "40ddd8cd",
   "metadata": {},
   "outputs": [
    {
     "data": {
      "text/plain": [
       "0.20407046266814133"
      ]
     },
     "execution_count": 60,
     "metadata": {},
     "output_type": "execute_result"
    }
   ],
   "source": [
    "p=data['price'].mean()\n",
    "s=data['price'].std()\n",
    "x=2700\n",
    "zs=(x-p)/s\n",
    "pv=1-st.norm.cdf(zs)\n",
    "pv"
   ]
  },
  {
   "cell_type": "code",
   "execution_count": null,
   "id": "357285bc",
   "metadata": {},
   "outputs": [],
   "source": []
  },
  {
   "cell_type": "code",
   "execution_count": null,
   "id": "025c4f68",
   "metadata": {},
   "outputs": [],
   "source": []
  },
  {
   "cell_type": "code",
   "execution_count": null,
   "id": "fae00432",
   "metadata": {},
   "outputs": [],
   "source": []
  },
  {
   "cell_type": "code",
   "execution_count": null,
   "id": "56f2ef1c",
   "metadata": {},
   "outputs": [],
   "source": []
  },
  {
   "cell_type": "code",
   "execution_count": null,
   "id": "b7f7112e",
   "metadata": {},
   "outputs": [],
   "source": []
  },
  {
   "cell_type": "code",
   "execution_count": null,
   "id": "33d13908",
   "metadata": {},
   "outputs": [],
   "source": []
  },
  {
   "cell_type": "code",
   "execution_count": null,
   "id": "678224e4",
   "metadata": {},
   "outputs": [],
   "source": []
  },
  {
   "cell_type": "code",
   "execution_count": null,
   "id": "7864c487",
   "metadata": {},
   "outputs": [],
   "source": []
  },
  {
   "cell_type": "code",
   "execution_count": null,
   "id": "c155e61c",
   "metadata": {},
   "outputs": [],
   "source": []
  }
 ],
 "metadata": {
  "kernelspec": {
   "display_name": "Python 3 (ipykernel)",
   "language": "python",
   "name": "python3"
  },
  "language_info": {
   "codemirror_mode": {
    "name": "ipython",
    "version": 3
   },
   "file_extension": ".py",
   "mimetype": "text/x-python",
   "name": "python",
   "nbconvert_exporter": "python",
   "pygments_lexer": "ipython3",
   "version": "3.10.9"
  }
 },
 "nbformat": 4,
 "nbformat_minor": 5
}
