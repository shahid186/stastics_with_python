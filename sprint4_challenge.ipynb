{
 "cells": [
  {
   "cell_type": "code",
   "execution_count": 1,
   "id": "5c18c18b",
   "metadata": {},
   "outputs": [],
   "source": [
    "import pandas as pd\n",
    "import numpy  as np\n",
    "import matplotlib.pyplot as plt\n",
    "import scipy .stats as st\n",
    "import seaborn as sb\n",
    "from scipy.stats import poisson\n",
    "import warnings\n",
    "warnings.filterwarnings('ignore')"
   ]
  },
  {
   "cell_type": "markdown",
   "id": "d79ef32c",
   "metadata": {},
   "source": [
    "# task 1"
   ]
  },
  {
   "cell_type": "code",
   "execution_count": 2,
   "id": "374ce8c9",
   "metadata": {},
   "outputs": [
    {
     "data": {
      "text/plain": [
       "array([ 6,  7,  8,  9, 10, 11, 12, 13, 14])"
      ]
     },
     "execution_count": 2,
     "metadata": {},
     "output_type": "execute_result"
    }
   ],
   "source": [
    "\n",
    "x=np.arange(6,15)\n",
    "px=[0.03,0.08,0.15,0.20,0.19,0.16,0.10,0.07,0.02]\n",
    "x"
   ]
  },
  {
   "cell_type": "code",
   "execution_count": 3,
   "id": "ba7d9060",
   "metadata": {},
   "outputs": [
    {
     "data": {
      "text/plain": [
       "0.46"
      ]
     },
     "execution_count": 3,
     "metadata": {},
     "output_type": "execute_result"
    }
   ],
   "source": [
    "#find the probability that a few days lost due to extreme condition does not exceded\n",
    "#9 days the next summer \n",
    "round(sum(px[:4]),2)"
   ]
  },
  {
   "cell_type": "code",
   "execution_count": 4,
   "id": "535b85b0",
   "metadata": {},
   "outputs": [
    {
     "data": {
      "text/plain": [
       "0.95"
      ]
     },
     "execution_count": 4,
     "metadata": {},
     "output_type": "execute_result"
    }
   ],
   "source": [
    "#find the probability that you will lose 7 to 13 days next summer\n",
    "round(sum(px[1:-1]),2)"
   ]
  },
  {
   "cell_type": "code",
   "execution_count": 5,
   "id": "9e3464aa",
   "metadata": {},
   "outputs": [
    {
     "data": {
      "text/plain": [
       "0.0"
      ]
     },
     "execution_count": 5,
     "metadata": {},
     "output_type": "execute_result"
    }
   ],
   "source": [
    "#find the probability that the number of days will not be lost at all next summer\n",
    "h=round(sum(px[:9]),2)\n",
    "1-h"
   ]
  },
  {
   "cell_type": "code",
   "execution_count": null,
   "id": "e0165716",
   "metadata": {},
   "outputs": [],
   "source": []
  },
  {
   "cell_type": "code",
   "execution_count": 6,
   "id": "4469ff47",
   "metadata": {},
   "outputs": [
    {
     "data": {
      "text/plain": [
       "10"
      ]
     },
     "execution_count": 6,
     "metadata": {},
     "output_type": "execute_result"
    }
   ],
   "source": [
    "#compute the mean\n",
    "l=[]\n",
    "for i,j in zip(x,px):\n",
    "    l.append(i*j)\n",
    "Mean=round(sum(l))\n",
    "Mean"
   ]
  },
  {
   "cell_type": "code",
   "execution_count": 7,
   "id": "ae5ffd11",
   "metadata": {},
   "outputs": [
    {
     "data": {
      "text/plain": [
       "2.0"
      ]
     },
     "execution_count": 7,
     "metadata": {},
     "output_type": "execute_result"
    }
   ],
   "source": [
    "#compute the standard devation\n",
    "var=round(sum(map(lambda x,y:(x-Mean)**2*y,x,px)),0)\n",
    "var\n",
    "std=var**.5\n",
    "std"
   ]
  },
  {
   "cell_type": "code",
   "execution_count": 8,
   "id": "fb90971b",
   "metadata": {},
   "outputs": [
    {
     "data": {
      "text/plain": [
       "Text(0, 0.5, 'Probability')"
      ]
     },
     "execution_count": 8,
     "metadata": {},
     "output_type": "execute_result"
    },
    {
     "data": {
      "image/png": "[encoded data removed]",
      "text/plain": [
       "<Figure size 640x480 with 1 Axes>"
      ]
     },
     "metadata": {},
     "output_type": "display_data"
    }
   ],
   "source": [
    "#distrubution plot\n",
    "sb.barplot(x,px,palette='rocket_r')\n",
    "pit.title(\"Discrete Prob Distribution\")\n",
    "pit.xlabel(\"Outcome\")\n",
    "pit.ylabel(\"Probability\")"
   ]
  },
  {
   "cell_type": "markdown",
   "id": "fd5e6741",
   "metadata": {},
   "source": [
    "# task 2"
   ]
  },
  {
   "cell_type": "code",
   "execution_count": 9,
   "id": "58b32156",
   "metadata": {},
   "outputs": [
    {
     "data": {
      "text/plain": [
       "array([1.31941395e-01, 2.30897442e-01, 2.50138895e-01, 1.87604171e-01,\n",
       "       1.03182294e-01, 4.29926226e-02, 1.38190573e-02, 3.45476432e-03,\n",
       "       6.71759729e-04, 1.00763959e-04, 1.14504499e-05, 9.54204160e-07,\n",
       "       5.50502400e-08, 1.96608000e-09, 3.27680000e-11])"
      ]
     },
     "execution_count": 9,
     "metadata": {},
     "output_type": "execute_result"
    }
   ],
   "source": [
    "#20% overseas  outsourcing companies use a consultant suppose 15\n",
    "p=.20\n",
    "n=15\n",
    "q=1-p\n",
    "k=np.arange(1,16)\n",
    "h=st.binom.pmf(k,n,p)\n",
    "h"
   ]
  },
  {
   "cell_type": "code",
   "execution_count": 4,
   "id": "904bec43",
   "metadata": {},
   "outputs": [
    {
     "data": {
      "text/plain": [
       "array([1.31941395e-01, 2.30897442e-01, 2.50138895e-01, 1.87604171e-01,\n",
       "       1.03182294e-01, 4.29926226e-02, 1.38190573e-02, 3.45476432e-03,\n",
       "       6.71759729e-04, 1.00763959e-04, 1.14504499e-05, 9.54204160e-07,\n",
       "       5.50502400e-08, 1.96608000e-09, 3.27680000e-11])"
      ]
     },
     "execution_count": 4,
     "metadata": {},
     "output_type": "execute_result"
    }
   ],
   "source": [
    "p=.20\n",
    "n=15\n",
    "d=1-p\n",
    "m=np.arange(1,16)\n",
    "c=st.binom.pmf(m,n,p)\n",
    "c"
   ]
  },
  {
   "cell_type": "code",
   "execution_count": 6,
   "id": "4ab555bc",
   "metadata": {},
   "outputs": [
    {
     "data": {
      "text/plain": [
       "array([7.83402035e-07, 1.05759275e-05, 8.98953835e-05, 5.39372301e-04,\n",
       "       2.42717535e-03, 8.49511374e-03, 2.36649597e-02, 5.32461593e-02,\n",
       "       9.76179588e-02, 1.46426938e-01, 1.79705788e-01, 1.79705788e-01,\n",
       "       1.45146982e-01, 9.33087744e-02, 4.66543872e-02, 1.74953952e-02,\n",
       "       4.63113402e-03])"
      ]
     },
     "execution_count": 6,
     "metadata": {},
     "output_type": "execute_result"
    }
   ],
   "source": [
    "p=.60\n",
    "b=19\n",
    "q=1-p\n",
    "n=np.arange(1,18)\n",
    "c=st.binom.pmf(n,b,p)\n",
    "c"
   ]
  },
  {
   "cell_type": "code",
   "execution_count": 4,
   "id": "2332c6ad",
   "metadata": {},
   "outputs": [
    {
     "data": {
      "text/plain": [
       "array([1.31941395e-01, 2.30897442e-01, 2.50138895e-01, 1.87604171e-01,\n",
       "       1.03182294e-01, 4.29926226e-02, 1.38190573e-02, 3.45476432e-03,\n",
       "       6.71759729e-04, 1.00763959e-04, 1.14504499e-05, 9.54204160e-07,\n",
       "       5.50502400e-08, 1.96608000e-09, 3.27680000e-11])"
      ]
     },
     "execution_count": 4,
     "metadata": {},
     "output_type": "execute_result"
    }
   ],
   "source": [
    "p=.20\n",
    "n=15\n",
    "d=1-p\n",
    "k=np.arange(1,16)\n",
    "m=st.binom.pmf(k,n,p)\n",
    "m"
   ]
  },
  {
   "cell_type": "code",
   "execution_count": 6,
   "id": "584a13f7",
   "metadata": {},
   "outputs": [
    {
     "data": {
      "text/plain": [
       "array([9.57014921e-02, 1.91402984e-01, 2.39253730e-01, 2.09347014e-01,\n",
       "       1.36075559e-01, 6.80377795e-02, 2.67291277e-02, 8.35285240e-03,\n",
       "       2.08821310e-03, 4.17642620e-04, 6.64431441e-05, 8.30539301e-06,\n",
       "       7.98595482e-07, 5.70425344e-08, 2.85212672e-09, 8.91289600e-11,\n",
       "       1.31072000e-12])"
      ]
     },
     "execution_count": 6,
     "metadata": {},
     "output_type": "execute_result"
    }
   ],
   "source": [
    "p=.20\n",
    "n=17\n",
    "f=1-p\n",
    "l=np.arange(1,18)\n",
    "n=st.binom.pmf(l,n,p)\n",
    "n"
   ]
  },
  {
   "cell_type": "code",
   "execution_count": 7,
   "id": "926859ff",
   "metadata": {},
   "outputs": [],
   "source": [
    "b=.30\n",
    "m=19\n",
    "l=1-p\n",
    "m=np.arange(1,16)\n",
    "o=st.binom.pmf(l,m,b)"
   ]
  },
  {
   "cell_type": "code",
   "execution_count": 10,
   "id": "154a57e4",
   "metadata": {},
   "outputs": [],
   "source": [
    "v=.20\n",
    "l=45\n",
    "a=1-v\n",
    "a=np.arange(1,18)\n",
    "d=st.binom.pmf(a,l,b)\n"
   ]
  },
  {
   "cell_type": "code",
   "execution_count": null,
   "id": "2932b75e",
   "metadata": {},
   "outputs": [],
   "source": []
  },
  {
   "cell_type": "code",
   "execution_count": null,
   "id": "9f9c3e81",
   "metadata": {},
   "outputs": [],
   "source": []
  },
  {
   "cell_type": "code",
   "execution_count": null,
   "id": "49ded33c",
   "metadata": {},
   "outputs": [],
   "source": []
  },
  {
   "cell_type": "code",
   "execution_count": null,
   "id": "b4153a6f",
   "metadata": {},
   "outputs": [],
   "source": []
  },
  {
   "cell_type": "code",
   "execution_count": null,
   "id": "2cabe215",
   "metadata": {},
   "outputs": [],
   "source": []
  },
  {
   "cell_type": "code",
   "execution_count": null,
   "id": "0aa97be3",
   "metadata": {},
   "outputs": [],
   "source": []
  },
  {
   "cell_type": "code",
   "execution_count": null,
   "id": "5e936d61",
   "metadata": {},
   "outputs": [],
   "source": []
  },
  {
   "cell_type": "code",
   "execution_count": null,
   "id": "e744913e",
   "metadata": {},
   "outputs": [],
   "source": []
  },
  {
   "cell_type": "code",
   "execution_count": 12,
   "id": "413d9f74",
   "metadata": {},
   "outputs": [
    {
     "data": {
      "text/plain": [
       "0.10318229431910408"
      ]
     },
     "execution_count": 12,
     "metadata": {},
     "output_type": "execute_result"
    }
   ],
   "source": [
    "#proboblity exact 5 outesorcing compinies\n",
    "n=15\n",
    "p=.20\n",
    "q=1-p\n",
    "k=5\n",
    "j=st.binom.pmf(k,n,p)\n",
    "j"
   ]
  },
  {
   "cell_type": "code",
   "execution_count": 12,
   "id": "323bbf34",
   "metadata": {},
   "outputs": [
    {
     "data": {
      "text/plain": [
       "array([3.95653025e-02, 1.06363865e-01, 1.80035806e-01, 2.15107717e-01,\n",
       "       1.92758863e-01, 1.34347086e-01, 7.45264913e-02, 3.33917396e-02,\n",
       "       1.21906351e-02, 3.64135853e-03, 8.89918791e-04, 1.77213266e-04,\n",
       "       2.85028330e-05, 3.64878567e-06, 3.63299006e-07, 2.71294712e-08,\n",
       "       1.43004852e-09, 4.74619278e-11])"
      ]
     },
     "execution_count": 12,
     "metadata": {},
     "output_type": "execute_result"
    }
   ],
   "source": [
    "n=19\n",
    "p=.23\n",
    "g=1-p\n",
    "k=np.arange(1,19)\n",
    "m=st.binom.pmf(k,n,p)\n",
    "m\n"
   ]
  },
  {
   "cell_type": "code",
   "execution_count": 13,
   "id": "e27a09ed",
   "metadata": {},
   "outputs": [],
   "source": [
    "m=.14\n",
    "k=78\n",
    "j=1-m\n",
    "t=6\n",
    "w=st.binom.pmf(t,k,m)"
   ]
  },
  {
   "cell_type": "code",
   "execution_count": 14,
   "id": "73e49a8c",
   "metadata": {},
   "outputs": [],
   "source": [
    "c=np.arange(9,16)\n",
    "d=st.binom.pmf(c,n,p)"
   ]
  },
  {
   "cell_type": "code",
   "execution_count": 12,
   "id": "4fe0a6a1",
   "metadata": {},
   "outputs": [
    {
     "data": {
      "text/plain": [
       "array([6.71759729e-04, 1.00763959e-04, 1.14504499e-05, 9.54204160e-07,\n",
       "       5.50502400e-08, 1.96608000e-09, 3.27680000e-11])"
      ]
     },
     "execution_count": 12,
     "metadata": {},
     "output_type": "execute_result"
    }
   ],
   "source": [
    "#proboblity more than 9 outesorcing compinies\n",
    "x=np.arange(9,16)\n",
    "i=st.binom.pmf(x,n,p)\n",
    "i"
   ]
  },
  {
   "cell_type": "code",
   "execution_count": 16,
   "id": "d73eda47",
   "metadata": {},
   "outputs": [
    {
     "data": {
      "text/plain": [
       "[<matplotlib.lines.Line2D at 0x1d63f736740>]"
      ]
     },
     "execution_count": 16,
     "metadata": {},
     "output_type": "execute_result"
    },
    {
     "data": {
      "image/png": "[encoded data removed]",
      "text/plain": [
       "<Figure size 640x480 with 1 Axes>"
      ]
     },
     "metadata": {},
     "output_type": "display_data"
    }
   ],
   "source": [
    "plt.plot(c,d,'go--')"
   ]
  },
  {
   "cell_type": "code",
   "execution_count": 18,
   "id": "d29c4bc6",
   "metadata": {},
   "outputs": [
    {
     "data": {
      "text/plain": [
       "[<matplotlib.lines.Line2D at 0x1e8f8931060>]"
      ]
     },
     "execution_count": 18,
     "metadata": {},
     "output_type": "execute_result"
    },
    {
     "data": {
      "image/png": "[encoded data removed]",
      "text/plain": [
       "<Figure size 640x480 with 1 Axes>"
      ]
     },
     "metadata": {},
     "output_type": "display_data"
    }
   ],
   "source": [
    "plt.plot(c,d,'go--')"
   ]
  },
  {
   "cell_type": "code",
   "execution_count": 13,
   "id": "f150a666",
   "metadata": {},
   "outputs": [
    {
     "data": {
      "text/plain": [
       "[<matplotlib.lines.Line2D at 0x23b751a3580>]"
      ]
     },
     "execution_count": 13,
     "metadata": {},
     "output_type": "execute_result"
    },
    {
     "data": {
      "image/png": "[encoded data removed]",
      "text/plain": [
       "<Figure size 640x480 with 1 Axes>"
      ]
     },
     "metadata": {},
     "output_type": "display_data"
    }
   ],
   "source": [
    "pit.plot(x,i,'go--')"
   ]
  },
  {
   "cell_type": "code",
   "execution_count": 14,
   "id": "f54da00b",
   "metadata": {},
   "outputs": [
    {
     "data": {
      "text/plain": [
       "0.03518437208883203"
      ]
     },
     "execution_count": 14,
     "metadata": {},
     "output_type": "execute_result"
    }
   ],
   "source": [
    "#proboblity none of the   company use outesorcing compinies\n",
    "l=0\n",
    "t=st.binom.pmf(l,n,p)\n",
    "t"
   ]
  },
  {
   "cell_type": "code",
   "execution_count": 20,
   "id": "326eadb6",
   "metadata": {},
   "outputs": [
    {
     "data": {
      "text/plain": [
       "0.03518437208883203"
      ]
     },
     "execution_count": 20,
     "metadata": {},
     "output_type": "execute_result"
    }
   ],
   "source": [
    "l=0\n",
    "t=st.binom.pmf(l,n,p)\n",
    "t"
   ]
  },
  {
   "cell_type": "code",
   "execution_count": 16,
   "id": "bd906630",
   "metadata": {},
   "outputs": [
    {
     "data": {
      "text/plain": [
       "array([0.18760417, 0.10318229, 0.04299262, 0.01381906])"
      ]
     },
     "execution_count": 16,
     "metadata": {},
     "output_type": "execute_result"
    }
   ],
   "source": [
    "s=np.arange(4,8)\n",
    "c=st.binom.pmf(s,n,p)\n",
    "c"
   ]
  },
  {
   "cell_type": "code",
   "execution_count": 17,
   "id": "9b3c313a",
   "metadata": {},
   "outputs": [
    {
     "data": {
      "text/plain": [
       "[<matplotlib.lines.Line2D at 0x23b753fb220>]"
      ]
     },
     "execution_count": 17,
     "metadata": {},
     "output_type": "execute_result"
    },
    {
     "data": {
      "image/png": "[encoded data removed]",
      "text/plain": [
       "<Figure size 640x480 with 1 Axes>"
      ]
     },
     "metadata": {},
     "output_type": "display_data"
    }
   ],
   "source": [
    "pit.plot(s,c,'go--')"
   ]
  },
  {
   "cell_type": "markdown",
   "id": "e117a99d",
   "metadata": {},
   "source": [
    "# task 3"
   ]
  },
  {
   "cell_type": "code",
   "execution_count": 24,
   "id": "872aa09c",
   "metadata": {},
   "outputs": [
    {
     "data": {
      "text/plain": [
       "array([5.81002627e-01, 3.15484427e-01, 8.56540218e-02, 1.55033780e-02,\n",
       "       2.10458356e-03, 2.28557774e-04, 2.06844786e-05, 1.60452455e-06,\n",
       "       1.08907104e-07, 6.57072861e-09, 3.56790563e-10, 1.76124796e-11,\n",
       "       7.96964703e-13, 3.32886026e-14, 1.29112223e-15, 4.67386247e-17,\n",
       "       1.58619208e-18, 5.06648410e-20, 1.52838937e-21, 4.36797594e-23,\n",
       "       1.18590547e-24])"
      ]
     },
     "execution_count": 24,
     "metadata": {},
     "output_type": "execute_result"
    }
   ],
   "source": [
    "rate=.543\n",
    "n=20\n",
    "m=np.arange(n+1)\n",
    "k=st.poisson.pmf(m,rate)\n",
    "k"
   ]
  },
  {
   "cell_type": "code",
   "execution_count": 18,
   "id": "44e7c2af",
   "metadata": {},
   "outputs": [
    {
     "data": {
      "text/plain": [
       "array([5.69498005e-01, 3.20627377e-01, 9.02566065e-02, 1.69381565e-02,\n",
       "       2.38404553e-03, 2.68443526e-04, 2.51889509e-05, 2.02591133e-06,\n",
       "       1.42573510e-07, 8.91876514e-09, 5.02126477e-10, 2.56997461e-11,\n",
       "       1.20574642e-12, 5.22180949e-14, 2.09991339e-15, 7.88167492e-17,\n",
       "       2.77336436e-18, 9.18473021e-20, 2.87277950e-21, 8.51249927e-23,\n",
       "       2.39626854e-24, 6.42428186e-26, 1.64403213e-27, 4.02430474e-29,\n",
       "       9.44034819e-31, 2.12596641e-32, 4.60353496e-34, 9.59922291e-36,\n",
       "       1.93012946e-37, 3.74711341e-39, 7.03208283e-41])"
      ]
     },
     "execution_count": 18,
     "metadata": {},
     "output_type": "execute_result"
    }
   ],
   "source": [
    "rate=.563\n",
    "n=30\n",
    "m=np.arange(n+1)\n",
    "l=st.poisson.pmf(m,rate)\n",
    "l"
   ]
  },
  {
   "cell_type": "code",
   "execution_count": 26,
   "id": "bd082a2f",
   "metadata": {},
   "outputs": [
    {
     "data": {
      "text/plain": [
       "array([5.18404217e-001, 3.40591570e-001, 1.11884331e-001, 2.45026685e-002,\n",
       "       4.02456329e-003, 5.28827617e-004, 5.79066240e-005, 5.43495029e-006,\n",
       "       4.46345292e-007, 3.25832063e-008, 2.14071666e-009, 1.27859168e-010,\n",
       "       7.00028942e-012, 3.53783858e-013, 1.66025710e-014, 7.27192611e-016,\n",
       "       2.98603466e-017, 1.15401457e-018, 4.21215319e-020, 1.45651823e-021,\n",
       "       4.78466240e-023, 1.49691581e-024, 4.47033493e-026, 1.27696089e-027,\n",
       "       3.49568044e-029, 9.18664820e-031, 2.32139533e-032, 5.64872865e-034,\n",
       "       1.32543383e-035, 3.00279319e-037, 6.57611709e-039, 1.39371256e-040,\n",
       "       2.86146609e-042, 5.69691886e-044, 1.10084579e-045, 2.06644481e-047,\n",
       "       3.77126179e-049, 6.69653782e-051, 1.15779614e-052, 1.95044120e-054,\n",
       "       3.20359967e-056, 5.13357312e-058, 8.03037510e-060, 1.22696661e-061,\n",
       "       1.83208424e-063, 2.67484299e-065, 3.82037357e-067, 5.34039455e-069,\n",
       "       7.30966504e-071, 9.80091823e-073, 1.28784065e-074, 1.65904178e-076,\n",
       "       2.09613549e-078, 2.59841701e-080, 3.16140736e-082, 3.77644479e-084,\n",
       "       4.43057898e-086, 5.10682524e-088, 5.78480032e-090, 6.44171832e-092,\n",
       "       7.05368156e-094, 7.59716194e-096, 8.05054096e-098, 8.39556415e-100,\n",
       "       8.61857132e-102, 8.71138670e-104, 8.67178949e-106, 8.50353089e-108,\n",
       "       8.21591146e-110, 7.82297657e-112, 7.34242229e-114, 6.79432598e-116,\n",
       "       6.19982246e-118, 5.57984021e-120, 4.95399327e-122, 4.33969810e-124,\n",
       "       3.75155481e-126, 3.20100196e-128, 2.69622857e-130, 2.24230655e-132,\n",
       "       1.84149425e-134, 1.49365645e-136, 1.19674669e-138, 9.47304309e-141,\n",
       "       7.40927299e-143, 5.72693218e-145, 4.37510982e-147, 3.30396224e-149,\n",
       "       2.46670817e-151, 1.82092952e-153, 1.32927855e-155])"
      ]
     },
     "execution_count": 26,
     "metadata": {},
     "output_type": "execute_result"
    }
   ],
   "source": [
    "rate=.657\n",
    "j=90\n",
    "k=np.arange(j+1)\n",
    "f=st.poisson.pmf(k,rate)\n",
    "f"
   ]
  },
  {
   "cell_type": "code",
   "execution_count": null,
   "id": "f462834c",
   "metadata": {},
   "outputs": [],
   "source": []
  },
  {
   "cell_type": "code",
   "execution_count": null,
   "id": "c6c91ac5",
   "metadata": {},
   "outputs": [],
   "source": []
  },
  {
   "cell_type": "code",
   "execution_count": 22,
   "id": "a51df175",
   "metadata": {},
   "outputs": [
    {
     "data": {
      "text/plain": [
       "array([5.78104865e-01, 3.16801466e-01, 8.68036016e-02, 1.58561246e-02,\n",
       "       2.17228907e-03, 2.38082882e-04, 2.17449032e-05, 1.70231528e-06,\n",
       "       1.16608597e-07, 7.10016788e-09, 3.89089200e-10, 1.93837165e-11,\n",
       "       8.85189720e-13, 3.73141513e-14, 1.46058249e-15, 5.33599471e-17,\n",
       "       1.82757819e-18, 5.89125204e-20, 1.79355895e-21, 5.17300161e-23,\n",
       "       1.41740244e-24])"
      ]
     },
     "execution_count": 22,
     "metadata": {},
     "output_type": "execute_result"
    }
   ],
   "source": [
    "rate=.548\n",
    "n=20\n",
    "k=np.arange(n+1)\n",
    "p=st.poisson.pmf(k,rate)\n",
    "p"
   ]
  },
  {
   "cell_type": "code",
   "execution_count": 23,
   "id": "55be7729",
   "metadata": {},
   "outputs": [
    {
     "data": {
      "text/plain": [
       "0.5781048646705196"
      ]
     },
     "execution_count": 23,
     "metadata": {},
     "output_type": "execute_result"
    }
   ],
   "source": [
    "#family does not make trip to the amusement park \n",
    "a=p[0]\n",
    "a"
   ]
  },
  {
   "cell_type": "code",
   "execution_count": 24,
   "id": "6f713cb2",
   "metadata": {},
   "outputs": [
    {
     "data": {
      "text/plain": [
       "array([0.57810486])"
      ]
     },
     "execution_count": 24,
     "metadata": {},
     "output_type": "execute_result"
    }
   ],
   "source": [
    "#family  make  1 trip to the amusement park \n",
    "n=p[:1]\n",
    "n"
   ]
  },
  {
   "cell_type": "code",
   "execution_count": 25,
   "id": "50adc482",
   "metadata": {},
   "outputs": [
    {
     "data": {
      "text/plain": [
       "array([8.68036016e-02, 1.58561246e-02, 2.17228907e-03, 2.38082882e-04,\n",
       "       2.17449032e-05, 1.70231528e-06, 1.16608597e-07, 7.10016788e-09,\n",
       "       3.89089200e-10, 1.93837165e-11, 8.85189720e-13, 3.73141513e-14,\n",
       "       1.46058249e-15, 5.33599471e-17, 1.82757819e-18, 5.89125204e-20,\n",
       "       1.79355895e-21, 5.17300161e-23, 1.41740244e-24])"
      ]
     },
     "execution_count": 25,
     "metadata": {},
     "output_type": "execute_result"
    }
   ],
   "source": [
    "#family took  two or more trip to the amusement park \n",
    "\n",
    "n=p[2:]\n",
    "n"
   ]
  },
  {
   "cell_type": "code",
   "execution_count": null,
   "id": "68359baf",
   "metadata": {},
   "outputs": [],
   "source": [
    "#family took  less than 3  trip to the amusement park \n",
    "\n",
    "m=p[:3]\n",
    "m"
   ]
  },
  {
   "cell_type": "code",
   "execution_count": 26,
   "id": "f6a08b17",
   "metadata": {},
   "outputs": [
    {
     "data": {
      "text/plain": [
       "0.1817840342372797"
      ]
     },
     "execution_count": 26,
     "metadata": {},
     "output_type": "execute_result"
    }
   ],
   "source": [
    "#family took  exact 4 trip to the amusement park \n",
    "\n",
    "\n",
    "rate2=.548*6\n",
    "n=20\n",
    "l=4\n",
    "o=st.poisson.pmf(l,rate2)\n",
    "o"
   ]
  },
  {
   "cell_type": "code",
   "execution_count": 27,
   "id": "d925597b",
   "metadata": {},
   "outputs": [
    {
     "data": {
      "text/plain": [
       "[<matplotlib.lines.Line2D at 0x23b757834c0>]"
      ]
     },
     "execution_count": 27,
     "metadata": {},
     "output_type": "execute_result"
    },
    {
     "data": {
      "image/png": "[encoded data removed]",
      "text/plain": [
       "<Figure size 640x480 with 1 Axes>"
      ]
     },
     "metadata": {},
     "output_type": "display_data"
    }
   ],
   "source": [
    "#graph of the above poission \n",
    "pit.plot(k,p,'go--')"
   ]
  },
  {
   "cell_type": "code",
   "execution_count": null,
   "id": "f3398235",
   "metadata": {},
   "outputs": [],
   "source": []
  },
  {
   "cell_type": "code",
   "execution_count": null,
   "id": "ea8b8b96",
   "metadata": {},
   "outputs": [],
   "source": []
  }
 ],
 "metadata": {
  "kernelspec": {
   "display_name": "Python 3 (ipykernel)",
   "language": "python",
   "name": "python3"
  },
  "language_info": {
   "codemirror_mode": {
    "name": "ipython",
    "version": 3
   },
   "file_extension": ".py",
   "mimetype": "text/x-python",
   "name": "python",
   "nbconvert_exporter": "python",
   "pygments_lexer": "ipython3",
   "version": "3.10.9"
  }
 },
 "nbformat": 4,
 "nbformat_minor": 5
}
