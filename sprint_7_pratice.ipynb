{
 "cells": [
  {
   "cell_type": "code",
   "execution_count": 25,
   "id": "73951d7d",
   "metadata": {},
   "outputs": [],
   "source": [
    "import pandas as pd\n",
    "import numpy as np\n",
    "import matplotlib.pyplot as plt\n",
    "import seaborn as sb\n",
    "import scipy.stats  as st\n",
    "import statistics as sts\n",
    "import warnings\n",
    "warnings.filterwarnings('ignore')"
   ]
  },
  {
   "cell_type": "markdown",
   "id": "eb310537",
   "metadata": {},
   "source": [
    "# task 1 a"
   ]
  },
  {
   "cell_type": "markdown",
   "id": "62c0cf69",
   "metadata": {},
   "source": [
    "ho:m<=71\n",
    "ha:m>71\n",
    "it is right tail"
   ]
  },
  {
   "cell_type": "markdown",
   "id": "c585b464",
   "metadata": {},
   "source": [
    "# task 1 b"
   ]
  },
  {
   "cell_type": "code",
   "execution_count": 42,
   "id": "a621d7c7",
   "metadata": {},
   "outputs": [],
   "source": [
    "import math"
   ]
  },
  {
   "cell_type": "code",
   "execution_count": 32,
   "id": "5f8afa1a",
   "metadata": {},
   "outputs": [],
   "source": [
    "sample=[61,93,75,67,84,95]"
   ]
  },
  {
   "cell_type": "code",
   "execution_count": 42,
   "id": "d291cabf",
   "metadata": {},
   "outputs": [],
   "source": [
    "pop_mean=np.mean(sample)\n",
    "samp_std=sts.stdev(sample)\n",
    "pop_mean=71\n",
    "n=len(sample)\n",
    "dof=n-1\n",
    "alpha=0.1"
   ]
  },
  {
   "cell_type": "markdown",
   "id": "928cf635",
   "metadata": {},
   "source": [
    "# task 1 b critical value value of the hypothesis"
   ]
  },
  {
   "cell_type": "code",
   "execution_count": 44,
   "id": "8a8bfc62",
   "metadata": {},
   "outputs": [
    {
     "data": {
      "text/plain": [
       "1.4758840487820273"
      ]
     },
     "execution_count": 44,
     "metadata": {},
     "output_type": "execute_result"
    }
   ],
   "source": [
    "p_tc=st.t.ppf(1-alpha,dof)\n",
    "p_tc"
   ]
  },
  {
   "cell_type": "markdown",
   "id": "3130449c",
   "metadata": {},
   "source": [
    "#  task1 c what is the test stastic and p value of the hypothesis"
   ]
  },
  {
   "cell_type": "code",
   "execution_count": null,
   "id": "0e930845",
   "metadata": {},
   "outputs": [],
   "source": [
    "ts=(pop_mean-pop_mean)/(samp_std/np.sqrt(n))\n",
    "ts"
   ]
  },
  {
   "cell_type": "code",
   "execution_count": 45,
   "id": "8cd3329b",
   "metadata": {},
   "outputs": [
    {
     "data": {
      "text/plain": [
       "0.5"
      ]
     },
     "execution_count": 45,
     "metadata": {},
     "output_type": "execute_result"
    }
   ],
   "source": [
    "pvalue=st.t.sf(abs(ts),dof)\n",
    "pvalue"
   ]
  },
  {
   "cell_type": "markdown",
   "id": "cd1da70e",
   "metadata": {},
   "source": [
    "# task 1 d draw the conculusion"
   ]
  },
  {
   "cell_type": "code",
   "execution_count": 46,
   "id": "0ee4fbd2",
   "metadata": {},
   "outputs": [
    {
     "name": "stdout",
     "output_type": "stream",
     "text": [
      "t statics 0.0\n",
      "p critical 1.4758840487820273\n",
      "p value 0.5\n"
     ]
    }
   ],
   "source": [
    "print('t statics',ts)\n",
    "print('p critical',p_tc)\n",
    "print('p value',pvalue)"
   ]
  },
  {
   "cell_type": "code",
   "execution_count": 47,
   "id": "aae3aeac",
   "metadata": {},
   "outputs": [
    {
     "name": "stdout",
     "output_type": "stream",
     "text": [
      "h0 is acccepted\n"
     ]
    }
   ],
   "source": [
    "if p_tc>ts and  pvalue>alpha:\n",
    "    print('h0 is acccepted')\n",
    "else:\n",
    "    print('h0 is rejected')"
   ]
  },
  {
   "cell_type": "markdown",
   "id": "8d059bc3",
   "metadata": {},
   "source": [
    "# task 2"
   ]
  },
  {
   "cell_type": "code",
   "execution_count": 9,
   "id": "85c9f71a",
   "metadata": {},
   "outputs": [],
   "source": [
    "sample1=[9,9,9,36,45,48,51,57,69,72,96]\n",
    "sample2=[60,39,39,60,79,96,69,60,75,45,90]\n"
   ]
  },
  {
   "cell_type": "code",
   "execution_count": 27,
   "id": "bb71f7d4",
   "metadata": {},
   "outputs": [],
   "source": [
    "samp1_mean=np.mean(sample1)\n",
    "samp2_mean=np.mean(sample2)\n",
    "samp1_var1=np.var(sample1)\n",
    "samp_std1=sts.stdev(sample1)\n",
    "samp_std2=sts.stdev(sample2)\n",
    "samp_var2=np.var(sample2)\n",
    "n1=len(sample1)\n",
    "n2=len(sample2)\n",
    "dof1=n1+n2-2"
   ]
  },
  {
   "cell_type": "markdown",
   "id": "eea2d3aa",
   "metadata": {},
   "source": [
    "# task 2 b what isthe critical value"
   ]
  },
  {
   "cell_type": "code",
   "execution_count": 12,
   "id": "b4be97eb",
   "metadata": {},
   "outputs": [
    {
     "data": {
      "text/plain": [
       "-2.845339709776814"
      ]
     },
     "execution_count": 12,
     "metadata": {},
     "output_type": "execute_result"
    }
   ],
   "source": [
    "neg_tc=st.t.ppf(alpha/2,dof1)\n",
    "neg_tc"
   ]
  },
  {
   "cell_type": "code",
   "execution_count": 13,
   "id": "a2e798c2",
   "metadata": {},
   "outputs": [
    {
     "data": {
      "text/plain": [
       "2.845339709776814"
      ]
     },
     "execution_count": 13,
     "metadata": {},
     "output_type": "execute_result"
    }
   ],
   "source": [
    "pos_critical=st.t.ppf(1-alpha/2,dof1)\n",
    "pos_critical"
   ]
  },
  {
   "cell_type": "markdown",
   "id": "3563b36d",
   "metadata": {},
   "source": [
    "# task 2 c what is the p value and hypothesis test"
   ]
  },
  {
   "cell_type": "code",
   "execution_count": 48,
   "id": "f92f99e1",
   "metadata": {},
   "outputs": [
    {
     "data": {
      "text/plain": [
       "-1.9436557028956705"
      ]
     },
     "execution_count": 48,
     "metadata": {},
     "output_type": "execute_result"
    }
   ],
   "source": [
    "ts1=(samp1_mean-samp2_mean)/(np.sqrt(samp1_var1/n1+samp_var2/n2))\n",
    "ts1"
   ]
  },
  {
   "cell_type": "code",
   "execution_count": 14,
   "id": "7afba6ae",
   "metadata": {},
   "outputs": [
    {
     "data": {
      "text/plain": [
       "0.06614269697353392"
      ]
     },
     "execution_count": 14,
     "metadata": {},
     "output_type": "execute_result"
    }
   ],
   "source": [
    "pvalue=st.t.sf(abs(ts1),dof1)*2\n",
    "pvalue"
   ]
  },
  {
   "cell_type": "markdown",
   "id": "3253a337",
   "metadata": {},
   "source": [
    "# task 2 d draw the conclusion of the finding"
   ]
  },
  {
   "cell_type": "code",
   "execution_count": 25,
   "id": "128ff6f8",
   "metadata": {
    "scrolled": true
   },
   "outputs": [
    {
     "name": "stdout",
     "output_type": "stream",
     "text": [
      "h0 is rejected\n"
     ]
    }
   ],
   "source": [
    "if neg_tc>ts1<pos_critical and  pvalue>alpha:\n",
    "    print('h0 is acccepted')\n",
    "else:\n",
    "    print('h0 is rejected')"
   ]
  },
  {
   "cell_type": "code",
   "execution_count": 28,
   "id": "7174bb33",
   "metadata": {},
   "outputs": [
    {
     "data": {
      "text/plain": [
       "[<matplotlib.lines.Line2D at 0x27337be78b0>]"
      ]
     },
     "execution_count": 28,
     "metadata": {},
     "output_type": "execute_result"
    },
    {
     "data": {
      "image/png": "[encoded data removed]",
      "text/plain": [
       "<Figure size 640x480 with 1 Axes>"
      ]
     },
     "metadata": {},
     "output_type": "display_data"
    }
   ],
   "source": [
    "x=np.arange(-4,4,0.5)\n",
    "y=st.t.pdf(x,dof1)\n",
    "plt.plot(x,y,label='df'+str(dof1),color='r')"
   ]
  },
  {
   "cell_type": "markdown",
   "id": "ea644e30",
   "metadata": {},
   "source": [
    "# task 3"
   ]
  },
  {
   "cell_type": "code",
   "execution_count": 9,
   "id": "023913bb",
   "metadata": {},
   "outputs": [],
   "source": [
    "from scipy.stats import f,f_oneway"
   ]
  },
  {
   "cell_type": "code",
   "execution_count": 17,
   "id": "a79316e9",
   "metadata": {},
   "outputs": [],
   "source": [
    "sample1=[9,9,9,36,45,48,51,57,69,72,96]\n",
    "sample2=[60,39,39,60,79,96,69,60,75,45,90]\n",
    "sample3=[38,61,62,89,86,50,85,55,80,69,95]\n",
    "sample4=[45,55,57,88,78,60,35,97,58,88,78]"
   ]
  },
  {
   "cell_type": "code",
   "execution_count": 19,
   "id": "bf66d12a",
   "metadata": {},
   "outputs": [],
   "source": [
    "dfc=4-1\n",
    "dfe=44-4"
   ]
  },
  {
   "cell_type": "markdown",
   "id": "09ee9408",
   "metadata": {},
   "source": [
    "# task 3 b whatis the critical value"
   ]
  },
  {
   "cell_type": "code",
   "execution_count": 20,
   "id": "b7f6f854",
   "metadata": {},
   "outputs": [
    {
     "data": {
      "text/plain": [
       "4.312569212492142"
      ]
     },
     "execution_count": 20,
     "metadata": {},
     "output_type": "execute_result"
    }
   ],
   "source": [
    "fc=f.ppf(1-alpha,dfc,dfe)\n",
    "fc"
   ]
  },
  {
   "cell_type": "markdown",
   "id": "d699f7b2",
   "metadata": {},
   "source": [
    "# task 3 c what is the test stastic hyothesis"
   ]
  },
  {
   "cell_type": "code",
   "execution_count": 21,
   "id": "7c7b862e",
   "metadata": {},
   "outputs": [
    {
     "name": "stdout",
     "output_type": "stream",
     "text": [
      "2.8403108468764224\n"
     ]
    }
   ],
   "source": [
    "fs,pvalue=f_oneway(sample1,sample2,sample3,sample4)\n",
    "print(fs)"
   ]
  },
  {
   "cell_type": "markdown",
   "id": "ada1df10",
   "metadata": {},
   "source": [
    "#  task 3 d draw the graph"
   ]
  },
  {
   "cell_type": "code",
   "execution_count": 30,
   "id": "3f33a1fe",
   "metadata": {},
   "outputs": [
    {
     "data": {
      "text/plain": [
       "[<matplotlib.lines.Line2D at 0x27338343f70>]"
      ]
     },
     "execution_count": 30,
     "metadata": {},
     "output_type": "execute_result"
    },
    {
     "data": {
      "image/png": "[encoded data removed]",
      "text/plain": [
       "<Figure size 640x480 with 1 Axes>"
      ]
     },
     "metadata": {},
     "output_type": "display_data"
    }
   ],
   "source": [
    "rv=st.f(dfn=dfc,dfd=dfe,loc=0,scale=1)\n",
    "a=np.arange(0,8,0.05)\n",
    "b=rv.pdf(a)\n",
    "plt.plot(a,b,color='k')"
   ]
  },
  {
   "cell_type": "markdown",
   "id": "27a0f866",
   "metadata": {},
   "source": [
    "#  task 3 e draw the conclusion"
   ]
  },
  {
   "cell_type": "code",
   "execution_count": 23,
   "id": "2ee2c393",
   "metadata": {},
   "outputs": [
    {
     "name": "stdout",
     "output_type": "stream",
     "text": [
      "accept the null hypothosis\n"
     ]
    }
   ],
   "source": [
    "if fs<fc and pvalue>alpha:\n",
    "    print('accept the null hypothosis')\n",
    "else:\n",
    "    print('reject ')\n",
    "    "
   ]
  },
  {
   "cell_type": "code",
   "execution_count": null,
   "id": "ce73282e",
   "metadata": {},
   "outputs": [],
   "source": []
  },
  {
   "cell_type": "code",
   "execution_count": null,
   "id": "7889bd89",
   "metadata": {},
   "outputs": [],
   "source": []
  },
  {
   "cell_type": "code",
   "execution_count": null,
   "id": "8461154d",
   "metadata": {},
   "outputs": [],
   "source": []
  },
  {
   "cell_type": "code",
   "execution_count": null,
   "id": "75d6ad4f",
   "metadata": {},
   "outputs": [],
   "source": []
  },
  {
   "cell_type": "code",
   "execution_count": null,
   "id": "8ce07b75",
   "metadata": {},
   "outputs": [],
   "source": []
  }
 ],
 "metadata": {
  "kernelspec": {
   "display_name": "Python 3 (ipykernel)",
   "language": "python",
   "name": "python3"
  },
  "language_info": {
   "codemirror_mode": {
    "name": "ipython",
    "version": 3
   },
   "file_extension": ".py",
   "mimetype": "text/x-python",
   "name": "python",
   "nbconvert_exporter": "python",
   "pygments_lexer": "ipython3",
   "version": "3.9.13"
  }
 },
 "nbformat": 4,
 "nbformat_minor": 5
}
