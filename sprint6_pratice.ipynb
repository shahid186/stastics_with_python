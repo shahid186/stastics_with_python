{
 "cells": [
  {
   "cell_type": "code",
   "execution_count": 1,
   "id": "e792568d",
   "metadata": {},
   "outputs": [],
   "source": [
    "import pandas as pd\n",
    "import numpy as np\n",
    "import matplotlib.pyplot as plt\n",
    "import seaborn as sb\n",
    "import scipy.stats  as st\n",
    "import warnings\n",
    "warnings.filterwarnings('ignore')"
   ]
  },
  {
   "cell_type": "markdown",
   "id": "a82c0447",
   "metadata": {},
   "source": [
    "# task 1"
   ]
  },
  {
   "cell_type": "markdown",
   "id": "caaba471",
   "metadata": {},
   "source": [
    "# task 1 a"
   ]
  },
  {
   "cell_type": "markdown",
   "id": "951babfa",
   "metadata": {},
   "source": [
    "h0:33.88=mean >= 33.8\n",
    "ha:32.18 =mean <33.88\n",
    "std:1.28\n",
    "sample:49\n",
    "it is left tail "
   ]
  },
  {
   "cell_type": "markdown",
   "id": "a7b6d1cd",
   "metadata": {},
   "source": [
    "# task 1b what is the critical value of the hypothosis test"
   ]
  },
  {
   "cell_type": "code",
   "execution_count": null,
   "id": "aa1ef1a6",
   "metadata": {},
   "outputs": [],
   "source": [
    "n=st."
   ]
  },
  {
   "cell_type": "code",
   "execution_count": 22,
   "id": "dd7dd2ce",
   "metadata": {},
   "outputs": [
    {
     "data": {
      "text/plain": [
       "-1.6448536269514729"
      ]
     },
     "execution_count": 22,
     "metadata": {},
     "output_type": "execute_result"
    }
   ],
   "source": [
    "n_c=st.norm.ppf(alpha)\n",
    "n_c"
   ]
  },
  {
   "cell_type": "markdown",
   "id": "ce3747b6",
   "metadata": {},
   "source": [
    "# task 1cwhat r the test stastic for the hypothosis test "
   ]
  },
  {
   "cell_type": "code",
   "execution_count": 23,
   "id": "971aee43",
   "metadata": {},
   "outputs": [
    {
     "data": {
      "text/plain": [
       "-9.296875000000016"
      ]
     },
     "execution_count": 23,
     "metadata": {},
     "output_type": "execute_result"
    }
   ],
   "source": [
    "alpha=0.05\n",
    "pop_mean=33.88\n",
    "samp_mean=32.18\n",
    "std=1.28\n",
    "n=49\n",
    "zs=(samp_mean-pop_mean)/(std/np.sqrt(n))\n",
    "zs"
   ]
  },
  {
   "cell_type": "markdown",
   "id": "0460387a",
   "metadata": {},
   "source": [
    "# task 1 c p value of the hyphothosis test"
   ]
  },
  {
   "cell_type": "code",
   "execution_count": 24,
   "id": "1b8cf320",
   "metadata": {},
   "outputs": [
    {
     "data": {
      "text/plain": [
       "7.231705434385679e-21"
      ]
     },
     "execution_count": 24,
     "metadata": {},
     "output_type": "execute_result"
    }
   ],
   "source": [
    "pvalue=st.norm.sf(abs(zs))\n",
    "pvalue"
   ]
  },
  {
   "cell_type": "markdown",
   "id": "54cdea75",
   "metadata": {},
   "source": [
    "# task 1d conclusion of the hyphotosis test"
   ]
  },
  {
   "cell_type": "code",
   "execution_count": 25,
   "id": "49b3fa28",
   "metadata": {},
   "outputs": [
    {
     "name": "stdout",
     "output_type": "stream",
     "text": [
      "null hypothosis is not accepted\n"
     ]
    }
   ],
   "source": [
    "if n_c<zs and pvalue>alpha:\n",
    "    print('null hypothosis  is accepted')\n",
    "else:\n",
    "    print('null hypothosis is not accepted')"
   ]
  },
  {
   "cell_type": "markdown",
   "id": "03f7bb26",
   "metadata": {},
   "source": [
    "# task 2 "
   ]
  },
  {
   "cell_type": "markdown",
   "id": "c3538b82",
   "metadata": {},
   "source": [
    "# task 2 a"
   ]
  },
  {
   "cell_type": "markdown",
   "id": "0b723454",
   "metadata": {},
   "source": [
    "h0:85=mean <=85\n",
    "ha:87.5=mean > 87.5\n",
    "std:2.1\n",
    "sample:32\n",
    "it is right  tail "
   ]
  },
  {
   "cell_type": "markdown",
   "id": "181625b5",
   "metadata": {},
   "source": [
    "# task 2b  what is the critical value of the hypothosis test"
   ]
  },
  {
   "cell_type": "code",
   "execution_count": 26,
   "id": "1c7830b1",
   "metadata": {},
   "outputs": [
    {
     "data": {
      "text/plain": [
       "1.6448536269514722"
      ]
     },
     "execution_count": 26,
     "metadata": {},
     "output_type": "execute_result"
    }
   ],
   "source": [
    "n_c2=st.norm.ppf(1-alpha)\n",
    "n_c2"
   ]
  },
  {
   "cell_type": "markdown",
   "id": "c954e2f8",
   "metadata": {},
   "source": [
    "# task 2c what r the test  statics of the hypothosis"
   ]
  },
  {
   "cell_type": "code",
   "execution_count": 27,
   "id": "0d4987c3",
   "metadata": {},
   "outputs": [
    {
     "data": {
      "text/plain": [
       "6.734350297014738"
      ]
     },
     "execution_count": 27,
     "metadata": {},
     "output_type": "execute_result"
    }
   ],
   "source": [
    "alpha2=0.05\n",
    "pop_mean2=85\n",
    "samp_mean2=87.5\n",
    "std2=2.1\n",
    "n2=32\n",
    "zs2=(samp_mean2-pop_mean2)/(std2/np.sqrt(n2))\n",
    "zs2"
   ]
  },
  {
   "cell_type": "markdown",
   "id": "60743bef",
   "metadata": {},
   "source": [
    "# task 2d p value of the hypothosis test"
   ]
  },
  {
   "cell_type": "code",
   "execution_count": 28,
   "id": "372f0057",
   "metadata": {},
   "outputs": [
    {
     "data": {
      "text/plain": [
       "8.233201952582752e-12"
      ]
     },
     "execution_count": 28,
     "metadata": {},
     "output_type": "execute_result"
    }
   ],
   "source": [
    "pvalue2=st.norm.sf(abs(zs2))\n",
    "pvalue2"
   ]
  },
  {
   "cell_type": "markdown",
   "id": "ce22aee2",
   "metadata": {},
   "source": [
    "# task 2e  draw the conclusion for the hypothosis test by comparing test stastics"
   ]
  },
  {
   "cell_type": "code",
   "execution_count": 29,
   "id": "8d86f5ef",
   "metadata": {},
   "outputs": [
    {
     "name": "stdout",
     "output_type": "stream",
     "text": [
      "null hypothosis is not accepted\n"
     ]
    }
   ],
   "source": [
    "if n_c2<zs2 and pvalue2>alpha2:\n",
    "    print('null hypothosis  is accepted')\n",
    "else:\n",
    "    print('null hypothosis is not accepted')"
   ]
  },
  {
   "cell_type": "code",
   "execution_count": null,
   "id": "e411b0dd",
   "metadata": {},
   "outputs": [],
   "source": []
  }
 ],
 "metadata": {
  "kernelspec": {
   "display_name": "Python 3 (ipykernel)",
   "language": "python",
   "name": "python3"
  },
  "language_info": {
   "codemirror_mode": {
    "name": "ipython",
    "version": 3
   },
   "file_extension": ".py",
   "mimetype": "text/x-python",
   "name": "python",
   "nbconvert_exporter": "python",
   "pygments_lexer": "ipython3",
   "version": "3.10.9"
  }
 },
 "nbformat": 4,
 "nbformat_minor": 5
}
